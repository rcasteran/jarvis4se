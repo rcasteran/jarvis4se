{
 "cells": [
  {
   "cell_type": "code",
   "execution_count": 1,
   "id": "4ef553bb-a13c-4d90-bdf3-dcfea18d3a07",
   "metadata": {},
   "outputs": [
    {
     "name": "stdout",
     "output_type": "stream",
     "text": [
      "Log file storage activated\n",
      "ERROR, WARNING and INFO messages display activated\n",
      "Diagram file storage activated\n",
      "Open Modelica simulation activated\n",
      "plantUml.jar is not up-to-date, see latest release https://github.com/plantuml/plantuml/releases/latest\n",
      "Hello casteran\n",
      "I am Jarvis. How may I assist you?\n"
     ]
    }
   ],
   "source": [
    "%reload_ext jarvis"
   ]
  },
  {
   "cell_type": "code",
   "execution_count": 2,
   "id": "954e1112-dafb-4b07-b6e8-202f6fa96ef6",
   "metadata": {},
   "outputs": [
    {
     "name": "stdout",
     "output_type": "stream",
     "text": [
      "\n",
      "ipython==8.27.0\n",
      "lxml==5.3.0\n",
      "notebook==7.2.2\n",
      "plantuml==0.3.0\n",
      "jarvis4se==1.4.0\n",
      "pandas==1.4.1\n",
      "requests==2.32.3\n",
      "nltk==3.8.1\n",
      "PyZMQ==26.2.0\n",
      "OMPython==3.5.1 \n",
      "python==3.10.1\n"
     ]
    }
   ],
   "source": [
    "%retrieve_pkg_version"
   ]
  },
  {
   "cell_type": "markdown",
   "id": "a19b2df4-bc7d-488d-8b17-22949f1fc368",
   "metadata": {},
   "source": [
    "from https://www.depslink.fr/wp-content/uploads/2024/09/DEPS_a_model-_and_property-based_language_for_syst.pdf\n",
    "\n",
    "The second problem is described in [1, 56] and it deals with __Unmanned Aerial Vehicle (UAV)__ also called drone. The degree of autonomy of these systems evolves progressively from the tracking of a trajectory defined by an operator to a complete autonomy.\n",
    "\n",
    "In the case of trajectory tracking, a key functionality of the UAV is its ability __to detect obstacles__ and __plan a new trajectory__ that will allow it to avoid the UAV while continuing its path to the desired destination.\n",
    "\n",
    "This function composed of __obstacle detection__, __decision making__ and __calculation of a new trajectory__ must be ensured by the drone alone, without intervention from the ground station, in order to gain in efficiency.\n",
    "\n",
    "It must also be optimized to adapt to the drone’s energy resources.\n",
    "\n",
    "The __obstacle detection and avoidance functionality__ is provided by a __platform (HW) using a heterogeneous multi-core architecture (SHMC processor)__, which allows the UAV to have a high computing power while reducing its energy consumption (compared to a single-core or homogeneous multi-core processor).\n",
    "\n",
    "The SHMC processor is composed of cores with different computing power but using the same instruction set.\n",
    "\n",
    "A core can thus be allocated to any software task, without the need for recompilation. The cores can also be shut down when they are not allocated to\n",
    "any task, without the need to be kept in a sleep mode.\n",
    "\n",
    "On this type of processor we generally find a set of more powerful cores (Big Core) and a set of less powerful cores (Little Core).\n",
    "\n",
    "The platform used for the case study is an Exynos 5422 processor, composed of __four Cortex A15 cores called \"BigCore\"__ and __four Cortex A7 cores called \"LittleCore\"__.\n",
    "\n",
    "A task is characterized by:\n",
    "* Name\n",
    "* CoreNumber :\n",
    "    * 1: BigCore1\n",
    "    * 2: BigCore2\n",
    "    * 3: BigCore3\n",
    "    * 4: BigCore4\n",
    "    * 5: LittleCore1\n",
    "    * 6: LittleCore2\n",
    "    * 7: LittleCore3\n",
    "    * 8: LittleCore4\n",
    "* A memory size required for its execution in KB, including the heap size (MemorySize).\n",
    "* WCET (Worst Case Execution Time) for Big Core (WCETBC)\n",
    "* WCET (Worst Case Execution Time) for Little Core (WCETLC).\n",
    "* A period (Period).\n",
    "* Rate for Big Core : WCETBC / Period (bcRate)\n",
    "* Rate for Little Core : WCETLC / Period (lcRate)\n",
    "\n",
    "Req 1: A task Ti is deployed on one and only one core\n",
    "\n",
    "Req 2: Some tasks can only be performed by certain cores according to:\n",
    "* T1 : 1 ou 5\n",
    "* T2 : 2 ou 6\n",
    "* T6 : 3 ou 7\n",
    "\n",
    "Req 3 : Some tasks must be performed by the same core or by two different cores\n",
    "\n",
    "This type of constraint is noted OnSameCore or OnDifferentCore. These constraints group together tasks sharing a large amount of data (images\n",
    "stored after acquisition) and separate other tasks for parallelism or reliability (in case of failure of a core). \n",
    "\n",
    "Thus, Tasks T1 and T3 as well as Task T2 and T4 must necessarily be deployed on the same core.\n",
    "\n",
    "Similarly, Task T0 and T1 must necessarily be deployed on different cores\n",
    "\n",
    "Req 4: The amount of RAM memory available in each core to execute the tasks assigned to it must not be exceeded. \n",
    "\n",
    "Thus, the sum of the memory sizes required to perform the tasks assigned to a core must be less than or equal to the memory size of the considered core.\n",
    "Req 5:The utilization rate of each core, which must not exceed 100%.\n",
    "\n",
    "Thus the sum of the quotients of WCET by the period for each task assigned to a core must be less than or equal to 1.\n",
    "\n",
    "from: https://depozit.isae.fr/theses/2017/2017_Leserf_Patrick.pdf\n",
    "\n",
    "A BigCore is characterized by:\n",
    "* frequency: 2 GHz\n",
    "* max memory : 2 000 KB\n",
    "* max power consumption: 3 Watts\n",
    "\n",
    "A LittleCore is characterized by:\n",
    "* frequency: 1.4 GHz\n",
    "* max memory : 512 KB\n",
    "* max power consumption: 1 Watt\n",
    "\n",
    "Les temps WCET ont été mesurés sur la carte ODROID en instrumentant le code embarqué avec un timer HW, sur une série de 1000 images différentes, et\n",
    "avec une consigne d’acquisition de 20 images par seconde."
   ]
  },
  {
   "cell_type": "code",
   "execution_count": 3,
   "id": "64764eed-2815-4101-aca2-8dda11ab249d",
   "metadata": {},
   "outputs": [
    {
     "name": "stdout",
     "output_type": "stream",
     "text": [
      "Creating sw_uav.xml !\n",
      "Hardware Platform is a type extending Functional element\n",
      "Core is a type extending Functional element\n",
      "MemorySize (KB) is an attribute\n",
      "WCETBC (ms) is an attribute\n",
      "WCETLC (ms) is an attribute\n",
      "Period (ms) is an attribute\n",
      "CoreNumber is an attribute\n",
      "MemorySizeMax (KB) is an attribute\n",
      "PowerConsumptionMax (W) is an attribute\n",
      "sw_uav.xml updated\n"
     ]
    }
   ],
   "source": [
    "%%jarvis\n",
    "with sw_uav\n",
    "\"Hardware Platform\" extends \"Functional element\"\n",
    "\"Core\" extends \"Functional element\"\n",
    "\n",
    "\"MemorySize (KB)\" is an attribute\n",
    "\"WCETBC (ms)\" is an attribute\n",
    "\"WCETLC (ms)\" is an attribute\n",
    "\"Period (ms)\" is an attribute\n",
    "\"CoreNumber\" is an attribute\n",
    "\"MemorySizeMax (KB)\" is an attribute\n",
    "\"PowerConsumptionMax (W)\" is an attribute"
   ]
  },
  {
   "cell_type": "code",
   "execution_count": 4,
   "id": "175221cb-f053-4755-851d-2771c469a1cc",
   "metadata": {},
   "outputs": [
    {
     "name": "stdout",
     "output_type": "stream",
     "text": [
      "sw_uav.xml parsed\n",
      "UAV - Unnamed Aerial Vehicle is a Functional element\n",
      "F1 - To capture frame is a Function\n",
      "F2 - To identify picture is a Function\n",
      "F3 - To appply Filter 1 is a Function\n",
      "F4 - To appply Filter 2 is a Function\n",
      "F5 - To identify objects is a Function\n",
      "F6 - To determine region occupancy is a Function\n",
      "F7 - To predict trajectory is a Function\n",
      "F8 - To detect obstacle is a Function\n",
      "F9 - To avoid obstacle is a Function\n",
      "F10 - To calculate new trajectory is a Function\n",
      "Attribute MemorySize (KB) for F1 - To capture frame with value 300\n",
      "Attribute WCETBC (ms) for F1 - To capture frame with value 10\n",
      "Attribute WCETLC (ms) for F1 - To capture frame with value 30\n",
      "Attribute Period (ms) for F1 - To capture frame with value 80\n",
      "Attribute MemorySize (KB) for F2 - To identify picture with value 100\n",
      "Attribute WCETBC (ms) for F2 - To identify picture with value 20\n",
      "Attribute WCETLC (ms) for F2 - To identify picture with value 45\n",
      "Attribute Period (ms) for F2 - To identify picture with value 90\n",
      "Attribute MemorySize (KB) for F3 - To appply Filter 1 with value 200\n",
      "Attribute WCETBC (ms) for F3 - To appply Filter 1 with value 30\n",
      "Attribute WCETLC (ms) for F3 - To appply Filter 1 with value 55\n",
      "Attribute Period (ms) for F3 - To appply Filter 1 with value 100\n",
      "Attribute MemorySize (KB) for F4 - To appply Filter 2 with value 100\n",
      "Attribute WCETBC (ms) for F4 - To appply Filter 2 with value 30\n",
      "Attribute WCETLC (ms) for F4 - To appply Filter 2 with value 60\n",
      "Attribute Period (ms) for F4 - To appply Filter 2 with value 100\n",
      "Attribute MemorySize (KB) for F5 - To identify objects with value 200\n",
      "Attribute WCETBC (ms) for F5 - To identify objects with value 20\n",
      "Attribute WCETLC (ms) for F5 - To identify objects with value 55\n",
      "Attribute Period (ms) for F5 - To identify objects with value 80\n",
      "Attribute MemorySize (KB) for F6 - To determine region occupancy with value 200\n",
      "Attribute WCETBC (ms) for F6 - To determine region occupancy with value 15\n",
      "Attribute WCETLC (ms) for F6 - To determine region occupancy with value 45\n",
      "Attribute Period (ms) for F6 - To determine region occupancy with value 70\n",
      "Attribute MemorySize (KB) for F7 - To predict trajectory with value 200\n",
      "Attribute WCETBC (ms) for F7 - To predict trajectory with value 30\n",
      "Attribute WCETLC (ms) for F7 - To predict trajectory with value 45\n",
      "Attribute Period (ms) for F7 - To predict trajectory with value 90\n",
      "Attribute MemorySize (KB) for F8 - To detect obstacle with value 200\n",
      "Attribute WCETBC (ms) for F8 - To detect obstacle with value 35\n",
      "Attribute WCETLC (ms) for F8 - To detect obstacle with value 50\n",
      "Attribute Period (ms) for F8 - To detect obstacle with value 100\n",
      "Attribute MemorySize (KB) for F9 - To avoid obstacle with value 300\n",
      "Attribute WCETBC (ms) for F9 - To avoid obstacle with value 20\n",
      "Attribute WCETLC (ms) for F9 - To avoid obstacle with value 40\n",
      "Attribute Period (ms) for F9 - To avoid obstacle with value 90\n",
      "Attribute MemorySize (KB) for F10 - To calculate new trajectory with value 400\n",
      "Attribute WCETBC (ms) for F10 - To calculate new trajectory with value 40\n",
      "Attribute WCETLC (ms) for F10 - To calculate new trajectory with value 60\n",
      "Attribute Period (ms) for F10 - To calculate new trajectory with value 100\n",
      "sw_uav.xml updated\n"
     ]
    }
   ],
   "source": [
    "%%jarvis\n",
    "with sw_uav\n",
    "\"UAV - Unnamed Aerial Vehicle\" is a functional element.\n",
    "\n",
    "# T0 : \"F1 - To capture frame\", coreId, 300, 10, 30, 80, bcRate, lcRate\n",
    "\"F1 - To capture frame\" is a function.\n",
    "The \"MemorySize (KB)\" of F1 is 300.\n",
    "The \"WCETBC (ms)\" of F1 is 10.\n",
    "The \"WCETLC (ms)\" of F1 is 30.\n",
    "The \"Period (ms)\" of F1 is 80.\n",
    "\n",
    "# T1 : \"F2 - To identify picture\", coreId, 100, 20, 45, 90, bcRate, lcRate\n",
    "\"F2 - To identify picture\" is a function.\n",
    "The \"MemorySize (KB)\" of F2 is 100.\n",
    "The \"WCETBC (ms)\" of F2 is 20.\n",
    "The \"WCETLC (ms)\" of F2 is 45.\n",
    "The \"Period (ms)\" of F2 is 90.\n",
    "\n",
    "# T2 : \"F3 - To appply Filter 1\", coreId, 200, 30, 55, 100, bcRate, lcRate\n",
    "\"F3 - To appply Filter 1\" is a function.\n",
    "The \"MemorySize (KB)\" of F3 is 200.\n",
    "The \"WCETBC (ms)\" of F3 is 30.\n",
    "The \"WCETLC (ms)\" of F3 is 55.\n",
    "The \"Period (ms)\" of F3 is 100.\n",
    "\n",
    "# T3 : \"F4 - To appply Filter 2\", coreId, 100, 30, 60, 100, bcRate, lcRate\n",
    "\"F4 - To appply Filter 2\" is a function.\n",
    "The \"MemorySize (KB)\" of F4 is 100.\n",
    "The \"WCETBC (ms)\" of F4 is 30.\n",
    "The \"WCETLC (ms)\" of F4 is 60.\n",
    "The \"Period (ms)\" of F4 is 100.\n",
    "\n",
    "# T4 : \"F5 - To identify objects\", coreId, 200, 20, 55, 80, bcRate, lcRate\n",
    "\"F5 - To identify objects\" is a function.\n",
    "The \"MemorySize (KB)\" of F5 is 200.\n",
    "The \"WCETBC (ms)\" of F5 is 20.\n",
    "The \"WCETLC (ms)\" of F5 is 55.\n",
    "The \"Period (ms)\" of F5 is 80.\n",
    "\n",
    "# T5 : \"F6 - To determine region occupancy\", coreId, 200, 15, 45, 70, bcRate, lcRate\n",
    "\"F6 - To determine region occupancy\" is a function.\n",
    "The \"MemorySize (KB)\" of F6 is 200.\n",
    "The \"WCETBC (ms)\" of F6 is 15.\n",
    "The \"WCETLC (ms)\" of F6 is 45.\n",
    "The \"Period (ms)\" of F6 is 70.\n",
    "\n",
    "# T6 : \"F7 - To predict trajectory\", coreId, 200, 30, 45, 90, bcRate, lcRate\n",
    "\"F7 - To predict trajectory\" is a function.\n",
    "The \"MemorySize (KB)\" of F7 is 200.\n",
    "The \"WCETBC (ms)\" of F7 is 30.\n",
    "The \"WCETLC (ms)\" of F7 is 45.\n",
    "The \"Period (ms) of F7 is 90.\n",
    "\n",
    "# T7 : \"F8 - To detect obstacle\", coreId, 200, 35, 50, 100, bcRate, lcRate\n",
    "\"F8 - To detect obstacle\" is a function.\n",
    "The \"MemorySize (KB)\" of F8 is 200.\n",
    "The \"WCETBC (ms)\" of F8 is 35.\n",
    "The \"WCETLC (ms)\" of F8 is 50.\n",
    "The \"Period (ms)\" of F8 is 100.\n",
    "\n",
    "# T8 : \"F9 - To avoid obstacle\", coreId, 300, 20, 40, 90, bcRate, lcRate\n",
    "\"F9 - To avoid obstacle\" is a function\n",
    "The \"MemorySize (KB)\" of F9 is 300.\n",
    "The \"WCETBC (ms)\" of F9 is 20.\n",
    "The \"WCETLC (ms)\" of F9 is 40.\n",
    "The \"Period (ms)\" of F9 is 90.\n",
    "\n",
    "# T9 : \"F10 - To calculate new trajectory\", coreId, 400, 40, 60, 100, bcRate, lcRate\n",
    "\"F10 - To calculate new trajectory\" is a function.\n",
    "The \"MemorySize (KB)\" of F10 is 400.\n",
    "The \"WCETBC (ms)\" of F10 is 40.\n",
    "The \"WCETLC (ms)\" of F10 is 60.\n",
    "The \"Period (ms)\" of F10 is 100."
   ]
  },
  {
   "cell_type": "code",
   "execution_count": 5,
   "id": "428b9ba2-5d8b-4e45-9476-f0be9273cebc",
   "metadata": {},
   "outputs": [
    {
     "name": "stdout",
     "output_type": "stream",
     "text": [
      "sw_uav.xml parsed\n",
      "Function F1 - To capture frame is allocated to FunctionalElement UAV - Unnamed Aerial Vehicle\n",
      "Function F2 - To identify picture is allocated to FunctionalElement UAV - Unnamed Aerial Vehicle\n",
      "Function F3 - To appply Filter 1 is allocated to FunctionalElement UAV - Unnamed Aerial Vehicle\n",
      "Function F4 - To appply Filter 2 is allocated to FunctionalElement UAV - Unnamed Aerial Vehicle\n",
      "Function F5 - To identify objects is allocated to FunctionalElement UAV - Unnamed Aerial Vehicle\n",
      "Function F6 - To determine region occupancy is allocated to FunctionalElement UAV - Unnamed Aerial Vehicle\n",
      "Function F7 - To predict trajectory is allocated to FunctionalElement UAV - Unnamed Aerial Vehicle\n",
      "Function F8 - To detect obstacle is allocated to FunctionalElement UAV - Unnamed Aerial Vehicle\n",
      "Function F9 - To avoid obstacle is allocated to FunctionalElement UAV - Unnamed Aerial Vehicle\n",
      "Function F10 - To calculate new trajectory is allocated to FunctionalElement UAV - Unnamed Aerial Vehicle\n",
      "sw_uav.xml updated\n"
     ]
    }
   ],
   "source": [
    "%%jarvis\n",
    "with sw_uav\n",
    "UAV allocates F1, F2, F3, F4, F5, F6, F7, F8, F9, F10"
   ]
  },
  {
   "cell_type": "code",
   "execution_count": 6,
   "id": "06739af0-f36c-4547-b806-030f5deb6d43",
   "metadata": {},
   "outputs": [
    {
     "name": "stdout",
     "output_type": "stream",
     "text": [
      "sw_uav.xml parsed\n",
      "SHMC - Heterogeneous multi-core architecture platform is a Hardware Platform\n",
      "UAV - Unnamed Aerial Vehicle is composed of SHMC - Heterogeneous multi-core architecture platform\n",
      "Function F1 - To capture frame is allocated to FunctionalElement SHMC - Heterogeneous multi-core architecture platform\n",
      "Function F2 - To identify picture is allocated to FunctionalElement SHMC - Heterogeneous multi-core architecture platform\n",
      "Function F3 - To appply Filter 1 is allocated to FunctionalElement SHMC - Heterogeneous multi-core architecture platform\n",
      "Function F4 - To appply Filter 2 is allocated to FunctionalElement SHMC - Heterogeneous multi-core architecture platform\n",
      "Function F5 - To identify objects is allocated to FunctionalElement SHMC - Heterogeneous multi-core architecture platform\n",
      "Function F6 - To determine region occupancy is allocated to FunctionalElement SHMC - Heterogeneous multi-core architecture platform\n",
      "Function F7 - To predict trajectory is allocated to FunctionalElement SHMC - Heterogeneous multi-core architecture platform\n",
      "Function F8 - To detect obstacle is allocated to FunctionalElement SHMC - Heterogeneous multi-core architecture platform\n",
      "Function F9 - To avoid obstacle is allocated to FunctionalElement SHMC - Heterogeneous multi-core architecture platform\n",
      "Function F10 - To calculate new trajectory is allocated to FunctionalElement SHMC - Heterogeneous multi-core architecture platform\n",
      "sw_uav.xml updated\n"
     ]
    }
   ],
   "source": [
    "%%jarvis\n",
    "with sw_uav\n",
    "\"SHMC - Heterogeneous multi-core architecture platform\" is an Hardware Platform\n",
    "UAV is composed of SHMC\n",
    "SHMC allocates F1, F2, F3, F4, F5, F6, F7, F8, F9, F10"
   ]
  },
  {
   "cell_type": "code",
   "execution_count": 7,
   "id": "551c6eab-fe5a-406b-b6f7-f9a793077827",
   "metadata": {},
   "outputs": [
    {
     "name": "stdout",
     "output_type": "stream",
     "text": [
      "sw_uav.xml parsed\n",
      "BC1 - BigCore1 is a Core\n",
      "BC2 - BigCore2 is a Core\n",
      "BC3 - BigCore3 is a Core\n",
      "BC4 - BigCore4 is a Core\n",
      "LC1 - LittleCore1 is a Core\n",
      "LC2 - LittleCore2 is a Core\n",
      "LC3 - LittleCore3 is a Core\n",
      "LC4 - LittleCore4 is a Core\n",
      "SHMC - Heterogeneous multi-core architecture platform is composed of BC1 - BigCore1\n",
      "SHMC - Heterogeneous multi-core architecture platform is composed of BC2 - BigCore2\n",
      "SHMC - Heterogeneous multi-core architecture platform is composed of BC3 - BigCore3\n",
      "SHMC - Heterogeneous multi-core architecture platform is composed of BC4 - BigCore4\n",
      "SHMC - Heterogeneous multi-core architecture platform is composed of LC1 - LittleCore1\n",
      "SHMC - Heterogeneous multi-core architecture platform is composed of LC2 - LittleCore2\n",
      "SHMC - Heterogeneous multi-core architecture platform is composed of LC3 - LittleCore3\n",
      "SHMC - Heterogeneous multi-core architecture platform is composed of LC4 - LittleCore4\n",
      "Attribute CoreNumber for BC1 - BigCore1 with value 1\n",
      "Attribute MemorySizeMax (KB) for BC1 - BigCore1 with value 2000\n",
      "Attribute PowerConsumptionMax (W) for BC1 - BigCore1 with value 3\n",
      "Attribute CoreNumber for BC2 - BigCore2 with value 2\n",
      "Attribute MemorySizeMax (KB) for BC2 - BigCore2 with value 2000\n",
      "Attribute PowerConsumptionMax (W) for BC2 - BigCore2 with value 3\n",
      "Attribute CoreNumber for BC3 - BigCore3 with value 3\n",
      "Attribute MemorySizeMax (KB) for BC3 - BigCore3 with value 2000\n",
      "Attribute PowerConsumptionMax (W) for BC3 - BigCore3 with value 3\n",
      "Attribute CoreNumber for BC4 - BigCore4 with value 4\n",
      "Attribute MemorySizeMax (KB) for BC4 - BigCore4 with value 2000\n",
      "Attribute PowerConsumptionMax (W) for BC4 - BigCore4 with value 3\n",
      "Attribute CoreNumber for LC1 - LittleCore1 with value 5\n",
      "Attribute MemorySizeMax (KB) for LC1 - LittleCore1 with value 512\n",
      "Attribute PowerConsumptionMax (W) for LC1 - LittleCore1 with value 1\n",
      "Attribute CoreNumber for LC2 - LittleCore2 with value 6\n",
      "Attribute MemorySizeMax (KB) for LC2 - LittleCore2 with value 512\n",
      "Attribute PowerConsumptionMax (W) for LC2 - LittleCore2 with value 1\n",
      "Attribute CoreNumber for LC3 - LittleCore3 with value 7\n",
      "Attribute MemorySizeMax (KB) for LC3 - LittleCore3 with value 512\n",
      "Attribute PowerConsumptionMax (W) for LC3 - LittleCore3 with value 1\n",
      "Attribute CoreNumber for LC4 - LittleCore4 with value 8\n",
      "Attribute MemorySizeMax (KB) for LC4 - LittleCore4 with value 512\n",
      "Attribute PowerConsumptionMax (W) for LC4 - LittleCore4 with value 1\n",
      "sw_uav.xml updated\n"
     ]
    }
   ],
   "source": [
    "%%jarvis\n",
    "with sw_uav\n",
    "\"BC1 - BigCore1\" is a Core.\n",
    "The \"CoreNumber\" of BC1 is 1.\n",
    "The \"MemorySizeMax (KB)\" of BC1 is 2000.\n",
    "The \"PowerConsumptionMax (W)\" of BC1 is 3.\n",
    "\n",
    "\"BC2 - BigCore2\" is a Core.\n",
    "The \"CoreNumber\" of BC2 is 2.\n",
    "The \"MemorySizeMax (KB)\" of BC2 is 2000.\n",
    "The \"PowerConsumptionMax (W)\" of BC2 is 3.\n",
    "\n",
    "\"BC3 - BigCore3\" is a Core.\n",
    "The \"CoreNumber\" of BC3 is 3.\n",
    "The \"MemorySizeMax (KB)\" of BC3 is 2000.\n",
    "The \"PowerConsumptionMax (W)\" of BC3 is 3.\n",
    "\n",
    "\"BC4 - BigCore4\" is a Core.\n",
    "The \"CoreNumber\" of BC4 is 4.\n",
    "The \"MemorySizeMax (KB)\" of BC4 is 2000.\n",
    "The \"PowerConsumptionMax (W)\" of BC4 is 3.\n",
    "\n",
    "\"LC1 - LittleCore1\" is a Core.\n",
    "The \"CoreNumber\" of LC1 is 5.\n",
    "The \"MemorySizeMax (KB)\" of LC1 is 512.\n",
    "The \"PowerConsumptionMax (W)\" of LC1 is 1.\n",
    "\n",
    "\"LC2 - LittleCore2\" is a Core.\n",
    "The \"CoreNumber\" of LC2 is 6.\n",
    "The \"MemorySizeMax (KB)\" of LC2 is 512.\n",
    "The \"PowerConsumptionMax (W)\" of LC2 is 1.\n",
    "    \n",
    "\"LC3 - LittleCore3\" is a Core.\n",
    "The \"CoreNumber\" of LC3 is 7.\n",
    "The \"MemorySizeMax (KB)\" of LC3 is 512.\n",
    "The \"PowerConsumptionMax (W)\" of LC3 is 1.\n",
    "    \n",
    "\"LC4 - LittleCore4\" is a Core.\n",
    "The \"CoreNumber\" of LC4 is 8.\n",
    "The \"MemorySizeMax (KB)\" of LC4 is 512.\n",
    "The \"PowerConsumptionMax (W)\" of LC4 is 1.\n",
    "\n",
    "SHMC is composed of \"BC1 - BigCore1\", \"BC2 - BigCore2\", \"BC3 - BigCore3\", \"BC4 - BigCore4\"\n",
    "SHMC is composed of \"LC1 - LittleCore1\", \"LC2 - LittleCore2\", \"LC3 - LittleCore3\", \"LC4 - LittleCore4\""
   ]
  },
  {
   "cell_type": "code",
   "execution_count": 8,
   "id": "8355e582-0316-4c01-8563-9ae2626e308b",
   "metadata": {},
   "outputs": [
    {
     "name": "stdout",
     "output_type": "stream",
     "text": [
      "sw_uav.xml parsed\n",
      "Decomposition Diagram for UAV generated\n"
     ]
    },
    {
     "data": {
      "text/html": [
       "<a href=\"./diagrams/Diagram9095742045.svg\" target=\"_blank\">Click to open in new tab</a>"
      ],
      "text/plain": [
       "<IPython.core.display.HTML object>"
      ]
     },
     "metadata": {},
     "output_type": "display_data"
    },
    {
     "name": "stdout",
     "output_type": "stream",
     "text": [
      "Overview :\n"
     ]
    },
    {
     "data": {
      "text/markdown": [
       "![figure](./diagrams/Diagram9095742045.svg)"
      ],
      "text/plain": [
       "<IPython.core.display.Markdown object>"
      ]
     },
     "metadata": {},
     "output_type": "display_data"
    }
   ],
   "source": [
    "%%jarvis\n",
    "with sw_uav\n",
    "show decomposition UAV"
   ]
  },
  {
   "cell_type": "code",
   "execution_count": 9,
   "id": "3c7f85a2-a30d-43a1-86c4-b1466dadaf8c",
   "metadata": {},
   "outputs": [
    {
     "name": "stdout",
     "output_type": "stream",
     "text": [
      "sw_uav.xml parsed\n",
      "Requirement identified about Core: A Core shall host only one function\n",
      "\n"
     ]
    },
    {
     "name": "stdin",
     "output_type": "stream",
     "text": [
      "Please give a requirement name:  REQ_1\n"
     ]
    },
    {
     "name": "stdout",
     "output_type": "stream",
     "text": [
      "REQ_1 is a requirement\n",
      "Requirement REQ_1 is satisfied by Type Core\n",
      "sw_uav.xml updated\n"
     ]
    }
   ],
   "source": [
    "%%jarvis\n",
    "with sw_uav\n",
    "# Req 1: A task Ti is deployed on one and only one core\n",
    "A Core shall host only one function"
   ]
  },
  {
   "cell_type": "code",
   "execution_count": 10,
   "id": "fcb5b301-07d3-4449-b4ca-c22777327beb",
   "metadata": {},
   "outputs": [
    {
     "name": "stdout",
     "output_type": "stream",
     "text": [
      "sw_uav.xml parsed\n"
     ]
    },
    {
     "data": {
      "text/html": [
       "<style type=\"text/css\">\n",
       "#T_d9425_row0_col0, #T_d9425_row1_col0, #T_d9425_row2_col0, #T_d9425_row3_col0, #T_d9425_row4_col0, #T_d9425_row5_col0, #T_d9425_row6_col0, #T_d9425_row7_col0, #T_d9425_row8_col0, #T_d9425_row9_col0 {\n",
       "  white-space: nowrap;\n",
       "}\n",
       "</style>\n",
       "<table id=\"T_d9425\">\n",
       "  <caption>Object BC1 - BigCore1:</caption>\n",
       "  <thead>\n",
       "    <tr>\n",
       "      <th class=\"blank level0\" >&nbsp;</th>\n",
       "      <th id=\"T_d9425_level0_col0\" class=\"col_heading level0 col0\" >0</th>\n",
       "    </tr>\n",
       "  </thead>\n",
       "  <tbody>\n",
       "    <tr>\n",
       "      <th id=\"T_d9425_level0_row0\" class=\"row_heading level0 row0\" >type</th>\n",
       "      <td id=\"T_d9425_row0_col0\" class=\"data row0 col0\" >Core</td>\n",
       "    </tr>\n",
       "    <tr>\n",
       "      <th id=\"T_d9425_level0_row1\" class=\"row_heading level0 row1\" >alias</th>\n",
       "      <td id=\"T_d9425_row1_col0\" class=\"data row1 col0\" >BC1</td>\n",
       "    </tr>\n",
       "    <tr>\n",
       "      <th id=\"T_d9425_level0_row2\" class=\"row_heading level0 row2\" >derived from object</th>\n",
       "      <td id=\"T_d9425_row2_col0\" class=\"data row2 col0\" >none</td>\n",
       "    </tr>\n",
       "    <tr>\n",
       "      <th id=\"T_d9425_level0_row3\" class=\"row_heading level0 row3\" >parent</th>\n",
       "      <td id=\"T_d9425_row3_col0\" class=\"data row3 col0\" >SHMC - Heterogeneous multi-core architecture platform</td>\n",
       "    </tr>\n",
       "    <tr>\n",
       "      <th id=\"T_d9425_level0_row4\" class=\"row_heading level0 row4\" >child list</th>\n",
       "      <td id=\"T_d9425_row4_col0\" class=\"data row4 col0\" >none</td>\n",
       "    </tr>\n",
       "    <tr>\n",
       "      <th id=\"T_d9425_level0_row5\" class=\"row_heading level0 row5\" >requirement list</th>\n",
       "      <td id=\"T_d9425_row5_col0\" class=\"data row5 col0\" >none</td>\n",
       "    </tr>\n",
       "    <tr>\n",
       "      <th id=\"T_d9425_level0_row6\" class=\"row_heading level0 row6\" >PowerConsumptionMax (W)</th>\n",
       "      <td id=\"T_d9425_row6_col0\" class=\"data row6 col0\" >3</td>\n",
       "    </tr>\n",
       "    <tr>\n",
       "      <th id=\"T_d9425_level0_row7\" class=\"row_heading level0 row7\" >MemorySizeMax (KB)</th>\n",
       "      <td id=\"T_d9425_row7_col0\" class=\"data row7 col0\" >2000</td>\n",
       "    </tr>\n",
       "    <tr>\n",
       "      <th id=\"T_d9425_level0_row8\" class=\"row_heading level0 row8\" >CoreNumber</th>\n",
       "      <td id=\"T_d9425_row8_col0\" class=\"data row8 col0\" >1</td>\n",
       "    </tr>\n",
       "    <tr>\n",
       "      <th id=\"T_d9425_level0_row9\" class=\"row_heading level0 row9\" >inherited requirement list</th>\n",
       "      <td id=\"T_d9425_row9_col0\" class=\"data row9 col0\" >REQ_1</td>\n",
       "    </tr>\n",
       "  </tbody>\n",
       "</table>\n"
      ],
      "text/plain": [
       "<IPython.core.display.HTML object>"
      ]
     },
     "metadata": {},
     "output_type": "display_data"
    }
   ],
   "source": [
    "%%jarvis\n",
    "with sw_uav\n",
    "What is BC1 ?"
   ]
  },
  {
   "cell_type": "code",
   "execution_count": 11,
   "id": "3ef608fe-9d7c-43f2-8f65-c7ae1081a1ba",
   "metadata": {},
   "outputs": [
    {
     "name": "stdout",
     "output_type": "stream",
     "text": [
      "sw_uav.xml parsed\n",
      "Requirement identified about F2 - To identify picture: The function F2 shall run either on the BC1 or on the LC1\n",
      "[WARNING] Function F2 - To identify picture is not allocated to Functional element BC1 - BigCore1\n",
      "[WARNING] Function F2 - To identify picture is not allocated to Functional element LC1 - LittleCore1\n"
     ]
    },
    {
     "name": "stdin",
     "output_type": "stream",
     "text": [
      "Please give a requirement name:  REQ_2_a\n"
     ]
    },
    {
     "name": "stdout",
     "output_type": "stream",
     "text": [
      "Requirement identified about F3 - To appply Filter 1: The function F3 shall run either on the BC2 or on the LC2\n",
      "[WARNING] Function F3 - To appply Filter 1 is not allocated to Functional element BC2 - BigCore2\n",
      "[WARNING] Function F3 - To appply Filter 1 is not allocated to Functional element LC2 - LittleCore2\n"
     ]
    },
    {
     "name": "stdin",
     "output_type": "stream",
     "text": [
      "Please give a requirement name:  REQ_2_b\n"
     ]
    },
    {
     "name": "stdout",
     "output_type": "stream",
     "text": [
      "Requirement identified about F7 - To predict trajectory: THe function F7 shall run either on the BC3 or on the LC3\n",
      "[WARNING] Function F7 - To predict trajectory is not allocated to Functional element BC3 - BigCore3\n",
      "[WARNING] Function F7 - To predict trajectory is not allocated to Functional element LC3 - LittleCore3\n"
     ]
    },
    {
     "name": "stdin",
     "output_type": "stream",
     "text": [
      "Please give a requirement name:  REQ_2_c\n"
     ]
    },
    {
     "name": "stdout",
     "output_type": "stream",
     "text": [
      "REQ_2_a is a requirement\n",
      "REQ_2_b is a requirement\n",
      "REQ_2_c is a requirement\n",
      "Requirement REQ_2_a is satisfied by Function F2 - To identify picture\n",
      "Requirement REQ_2_b is satisfied by Function F3 - To appply Filter 1\n",
      "Requirement REQ_2_c is satisfied by Function F7 - To predict trajectory\n",
      "sw_uav.xml updated\n"
     ]
    }
   ],
   "source": [
    "%%jarvis\n",
    "with sw_uav\n",
    "# Req 2: Some tasks can only be performed by certain cores according to:\n",
    "# * T1 : 1 ou 5\n",
    "# * T2 : 2 ou 6\n",
    "# * T6 : 3 ou 7\n",
    "The function F2 shall run either on the BC1 or on the LC1.\n",
    "The function F3 shall run either on the BC2 or on the LC2.\n",
    "THe function F7 shall run either on the BC3 or on the LC3."
   ]
  },
  {
   "cell_type": "code",
   "execution_count": 12,
   "id": "47488b58-e38f-436d-97a9-d07db9ea2701",
   "metadata": {},
   "outputs": [
    {
     "name": "stdout",
     "output_type": "stream",
     "text": [
      "sw_uav.xml parsed\n",
      "Requirement identified about F2 - To identify picture: The function F2 shall run on the same Core as the function F4\n"
     ]
    },
    {
     "name": "stdin",
     "output_type": "stream",
     "text": [
      "Please give a requirement name:  REQ_3_a\n"
     ]
    },
    {
     "name": "stdout",
     "output_type": "stream",
     "text": [
      "Requirement identified about F3 - To appply Filter 1: The function F3 shall run on the same Core as the function F5\n"
     ]
    },
    {
     "name": "stdin",
     "output_type": "stream",
     "text": [
      "Please give a requirement name:  REQ_3_b\n"
     ]
    },
    {
     "name": "stdout",
     "output_type": "stream",
     "text": [
      "Requirement identified about F1 - To capture frame: The function F1 shall run on a different Core than the function F2\n"
     ]
    },
    {
     "name": "stdin",
     "output_type": "stream",
     "text": [
      "Please give a requirement name:  REQ_3_c\n"
     ]
    },
    {
     "name": "stdout",
     "output_type": "stream",
     "text": [
      "REQ_3_a is a requirement\n",
      "REQ_3_b is a requirement\n",
      "REQ_3_c is a requirement\n",
      "Requirement REQ_3_a is satisfied by Function F2 - To identify picture\n",
      "Requirement REQ_3_a is satisfied by Type Core\n",
      "Requirement REQ_3_a is satisfied by Function F4 - To appply Filter 2\n",
      "Requirement REQ_3_b is satisfied by Function F3 - To appply Filter 1\n",
      "Requirement REQ_3_b is satisfied by Type Core\n",
      "Requirement REQ_3_b is satisfied by Function F5 - To identify objects\n",
      "Requirement REQ_3_c is satisfied by Function F1 - To capture frame\n",
      "Requirement REQ_3_c is satisfied by Type Core\n",
      "Requirement REQ_3_c is satisfied by Function F2 - To identify picture\n",
      "sw_uav.xml updated\n"
     ]
    }
   ],
   "source": [
    "%%jarvis\n",
    "with sw_uav\n",
    "# Req 3: Tasks T1 and T3 as well as Task T2 and T4 must necessarily be deployed on the same core. \n",
    "# Similarly, Task T0 and T1 must necessarily be deployed on different cores\n",
    "The function F2 shall run on the same Core as the function F4.\n",
    "The function F3 shall run on the same Core as the function F5.\n",
    "The function F1 shall run on a different Core than the function F2."
   ]
  },
  {
   "cell_type": "code",
   "execution_count": null,
   "id": "46f3f8f8-4a4d-42fc-a6d8-025641768ed2",
   "metadata": {},
   "outputs": [],
   "source": []
  }
 ],
 "metadata": {
  "kernelspec": {
   "display_name": "Python 3 (ipykernel)",
   "language": "python",
   "name": "python3"
  },
  "language_info": {
   "codemirror_mode": {
    "name": "ipython",
    "version": 3
   },
   "file_extension": ".py",
   "mimetype": "text/x-python",
   "name": "python",
   "nbconvert_exporter": "python",
   "pygments_lexer": "ipython3",
   "version": "3.10.11"
  }
 },
 "nbformat": 4,
 "nbformat_minor": 5
}
