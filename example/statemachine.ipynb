{
 "cells": [
  {
   "cell_type": "code",
   "execution_count": 1,
   "id": "0a9b2ed4-cfe8-4ce1-b920-afe0f7f165e8",
   "metadata": {},
   "outputs": [
    {
     "name": "stdout",
     "output_type": "stream",
     "text": [
      "Log file storage activated\n",
      "ERROR, WARNING and INFO messages display activated\n",
      "Open Modelica simulation activated\n",
      "plantUml.jar is not up-to-date, see latest release https://github.com/plantuml/plantuml/releases/latest\n",
      "Good afternoon casteran\n",
      "I am Jarvis. How may I assist you?\n"
     ]
    }
   ],
   "source": [
    "%reload_ext jarvis"
   ]
  },
  {
   "cell_type": "code",
   "execution_count": 2,
   "id": "c250153c-288d-43c8-899b-e6344b2588d9",
   "metadata": {},
   "outputs": [
    {
     "name": "stdout",
     "output_type": "stream",
     "text": [
      "\n",
      "ipython==8.27.0\n",
      "lxml==5.3.0\n",
      "notebook==7.2.2\n",
      "plantuml==0.3.0\n",
      "jarvis4se==1.4.0\n",
      "pandas==1.4.1\n",
      "requests==2.32.3\n",
      "nltk==3.8.1\n",
      "PyZMQ==26.2.0\n",
      "OMPython==3.5.1 \n",
      "python==3.10.1\n"
     ]
    }
   ],
   "source": [
    "%retrieve_pkg_version"
   ]
  },
  {
   "cell_type": "markdown",
   "id": "a2451f7f-32d4-447c-8bdc-ccf8a15a7b59",
   "metadata": {},
   "source": [
    "State machine from https://build.openmodelica.org/Documentation/ModelicaReference.StateMachines.html"
   ]
  },
  {
   "cell_type": "raw",
   "id": "c9a85eb9-0829-4fbd-9011-6f9f3ca1f834",
   "metadata": {},
   "source": [
    "  inner Integer v(start=0);\n",
    "  block Increase\n",
    "    outer output Integer v;\n",
    "  equation\n",
    "    v = previous(v) + 2;\n",
    "  end Increase;\n",
    "  Increase increase;\n",
    "  block Decrease\n",
    "    outer output Integer v;\n",
    "  equation\n",
    "    v = previous(v) - 1;\n",
    "  end Decrease;\n",
    "  Decrease decrease;\n",
    "equation\n",
    "  initialState(increase);\n",
    "  transition(increase, decrease, v>=6, immediate=false);\n",
    "  transition(decrease, increase, v==0, immediate=false);"
   ]
  },
  {
   "cell_type": "markdown",
   "id": "61e4ac16",
   "metadata": {},
   "source": [
    "But this does not work. Instead this work:"
   ]
  },
  {
   "cell_type": "raw",
   "id": "9489bb02",
   "metadata": {},
   "source": [
    "model system\n",
    "Boolean clock;\n",
    "Integer previous_v(start=0);\n",
    "Integer v(start=0);\n",
    "type State = enumeration(DECREASE_STATE, INCREASE_STATE);\n",
    "State state(start = State.INCREASE_STATE);\n",
    "equation\n",
    "  clock = sample(0,1);\n",
    "algorithm\n",
    "  when clock then\n",
    "    if state == state.DECREASE_STATE then\n",
    "    previous_v := pre(v);\n",
    "    v := previous_v - 1;\n",
    "    end if;\n",
    "    if state == state.INCREASE_STATE then\n",
    "    previous_v := pre(v);\n",
    "    v := previous_v + 2;\n",
    "    end if;\n",
    "    if v >= 6 then\n",
    "    state := state.DECREASE_STATE;\n",
    "    end if;\n",
    "    if v == 0 then\n",
    "    state := state.INCREASE_STATE;\n",
    "    end if;\n",
    "  end when;\n",
    "end system;"
   ]
  },
  {
   "cell_type": "code",
   "execution_count": 3,
   "id": "218abca9",
   "metadata": {},
   "outputs": [
    {
     "name": "stdout",
     "output_type": "stream",
     "text": [
      "statemachine.xml parsed\n",
      "Data with the name v already exists\n",
      "Data with the name previous_v already exists\n",
      "No update for statemachine.xml\n"
     ]
    }
   ],
   "source": [
    "%%jarvis\n",
    "with statemachine\n",
    "v is a data\n",
    "previous_v is a data"
   ]
  },
  {
   "cell_type": "code",
   "execution_count": 4,
   "id": "e3e4c45d",
   "metadata": {},
   "outputs": [
    {
     "name": "stdout",
     "output_type": "stream",
     "text": [
      "statemachine.xml parsed\n",
      "Function with the name To store previous value already exists\n",
      "Requirement identified about To store previous value: The function To store previous value shall set previous_v to v\n",
      "\n",
      "Function To store previous value produces Data previous_v\n",
      "Function To store previous value consumes Data v\n",
      "Requirement REQ_STORE has the same text (confidence factor: 1.0)\n",
      "No update for statemachine.xml\n"
     ]
    }
   ],
   "source": [
    "%%jarvis\n",
    "with statemachine\n",
    "\"To store previous value\" is a function\n",
    "The function \"To store previous value\" shall set previous_v to v"
   ]
  },
  {
   "cell_type": "code",
   "execution_count": 5,
   "id": "6d21dfe3",
   "metadata": {},
   "outputs": [
    {
     "name": "stdout",
     "output_type": "stream",
     "text": [
      "statemachine.xml parsed\n",
      "Requirement identified about To store previous value: The function To store previous value shall initialize previous_v to 0\n",
      "\n",
      "Function To store previous value produces Data previous_v\n",
      "Requirement REQ_STORE_INIT has the same text (confidence factor: 1.0)\n",
      "No update for statemachine.xml\n"
     ]
    }
   ],
   "source": [
    "%%jarvis\n",
    "with statemachine\n",
    "The function \"To store previous value\" shall initialize previous_v to 0"
   ]
  },
  {
   "cell_type": "code",
   "execution_count": 6,
   "id": "c566e651",
   "metadata": {},
   "outputs": [
    {
     "name": "stdout",
     "output_type": "stream",
     "text": [
      "statemachine.xml parsed\n",
      "No update for statemachine.xml\n"
     ]
    }
   ],
   "source": [
    "%%jarvis\n",
    "with statemachine\n",
    "\"To store previous value\" consumes v\n",
    "\"To store previous value\" produces previous_v"
   ]
  },
  {
   "cell_type": "code",
   "execution_count": 7,
   "id": "e61cc93e-e920-484a-b501-fb715221c0aa",
   "metadata": {},
   "outputs": [
    {
     "name": "stdout",
     "output_type": "stream",
     "text": [
      "statemachine.xml parsed\n",
      "Function with the name To increase value already exists\n",
      "Requirement identified about To increase value: The function To increase value shall set v to previous_v + 2\n",
      "\n",
      "Function To increase value produces Data v\n",
      "Function To increase value consumes Data previous_v\n",
      "Requirement REQ_INC has the same text (confidence factor: 1.0)\n",
      "No update for statemachine.xml\n"
     ]
    }
   ],
   "source": [
    "%%jarvis\n",
    "with statemachine\n",
    "\"To increase value\" is a function\n",
    "The function \"To increase value\" shall set v to previous_v + 2"
   ]
  },
  {
   "cell_type": "code",
   "execution_count": 8,
   "id": "e6b49789",
   "metadata": {},
   "outputs": [
    {
     "name": "stdout",
     "output_type": "stream",
     "text": [
      "statemachine.xml parsed\n",
      "Requirement identified about To increase value: The function To increase value shall initialize v to 0\n",
      "\n",
      "Function To increase value produces Data v\n",
      "Requirement REQ_INC_INIT has the same text (confidence factor: 1.0)\n",
      "No update for statemachine.xml\n"
     ]
    }
   ],
   "source": [
    "%%jarvis\n",
    "with statemachine\n",
    "The function \"To increase value\" shall initialize v to 0"
   ]
  },
  {
   "cell_type": "code",
   "execution_count": 9,
   "id": "01b12ead",
   "metadata": {},
   "outputs": [
    {
     "name": "stdout",
     "output_type": "stream",
     "text": [
      "statemachine.xml parsed\n",
      "Context Diagram To increase value generated\n"
     ]
    },
    {
     "data": {
      "text/html": [
       "<a href=\"http://127.0.0.1:8080/plantuml/svg/XP5TQy9G38Rlpwy8xc8E4TfAMockb0cx52-4NPQi3NgqdfJpKP3XVxTK3jsOOtT9tZTvGb8OYzgwSoFCIIhGR6Y8MjHuXWrRUiFgjDViLBtcXZLiiSKBVXnaAvvbdK4K9CaoIA8u5FnvfCh2PCTWB6k2LbCdsHdei74q0JHWkHoqqclbeC5gzUvKPIMhF8SlKPEHUmMlCDeW6x9fzoAkTtGOf6cw2ECu_OwMgjA4Xdv2VVKVdATuvWoYdlRNqa_pUVvWUBzPDZh5RuFlUpYqFsdMYO9KtR_b1W==\" target=\"_blank\">Click to open in new tab</a>"
      ],
      "text/plain": [
       "<IPython.core.display.HTML object>"
      ]
     },
     "metadata": {},
     "output_type": "display_data"
    },
    {
     "name": "stdout",
     "output_type": "stream",
     "text": [
      "Overview :\n"
     ]
    },
    {
     "data": {
      "text/markdown": [
       "![figure](http://127.0.0.1:8080/plantuml/svg/XP5TQy9G38Rlpwy8xc8E4TfAMockb0cx52-4NPQi3NgqdfJpKP3XVxTK3jsOOtT9tZTvGb8OYzgwSoFCIIhGR6Y8MjHuXWrRUiFgjDViLBtcXZLiiSKBVXnaAvvbdK4K9CaoIA8u5FnvfCh2PCTWB6k2LbCdsHdei74q0JHWkHoqqclbeC5gzUvKPIMhF8SlKPEHUmMlCDeW6x9fzoAkTtGOf6cw2ECu_OwMgjA4Xdv2VVKVdATuvWoYdlRNqa_pUVvWUBzPDZh5RuFlUpYqFsdMYO9KtR_b1W==)"
      ],
      "text/plain": [
       "<IPython.core.display.Markdown object>"
      ]
     },
     "metadata": {},
     "output_type": "display_data"
    },
    {
     "name": "stdout",
     "output_type": "stream",
     "text": [
      "No update for statemachine.xml\n"
     ]
    }
   ],
   "source": [
    "%%jarvis\n",
    "with statemachine\n",
    "\"To increase value\" consumes previous_v\n",
    "\"To increase value\" produces v\n",
    "show context \"To increase value\""
   ]
  },
  {
   "cell_type": "code",
   "execution_count": 10,
   "id": "e95929ab-59ca-4897-9e79-a680655d19d3",
   "metadata": {},
   "outputs": [
    {
     "name": "stdout",
     "output_type": "stream",
     "text": [
      "statemachine.xml parsed\n",
      "Function with the name To decrease value already exists\n",
      "Requirement identified about To decrease value: The function To decrease value shall set v to previous_v - 1 \n",
      "\n",
      "Function To decrease value produces Data v\n",
      "Function To decrease value consumes Data previous_v\n",
      "Requirement REQ_DEC has the same text (confidence factor: 1.0)\n",
      "No update for statemachine.xml\n"
     ]
    }
   ],
   "source": [
    "%%jarvis\n",
    "with statemachine\n",
    "\"To decrease value\" is a function\n",
    "The function \"To decrease value\" shall set v to previous_v - 1 "
   ]
  },
  {
   "cell_type": "code",
   "execution_count": 11,
   "id": "2ac22f35",
   "metadata": {},
   "outputs": [
    {
     "name": "stdout",
     "output_type": "stream",
     "text": [
      "statemachine.xml parsed\n",
      "Requirement identified about To decrease value: The function To decrease value shall initialize v to 0\n",
      "\n",
      "Function To decrease value produces Data v\n",
      "Requirement REQ_DEC_INIT has the same text (confidence factor: 1.0)\n",
      "No update for statemachine.xml\n"
     ]
    }
   ],
   "source": [
    "%%jarvis\n",
    "with statemachine\n",
    "The function \"To decrease value\" shall initialize v to 0"
   ]
  },
  {
   "cell_type": "code",
   "execution_count": 12,
   "id": "27014fc7-6bad-45fe-b5a2-258a12843edf",
   "metadata": {},
   "outputs": [
    {
     "name": "stdout",
     "output_type": "stream",
     "text": [
      "statemachine.xml parsed\n",
      "Context Diagram To decrease value generated\n"
     ]
    },
    {
     "data": {
      "text/html": [
       "<a href=\"http://127.0.0.1:8080/plantuml/svg/VP5FQy904CNl-oa6Ux0U0adQ1Bje48KUIm-57iEO7UpMk1Fs7qZfTs-8M2rQRyFCU-ytmooSH-l3hXLkgmrOTZHK7LhSmGjxMcAptLWEHgsuPGklsE4Utpzq9yPQINZC7zAdeYYdgU3r9pKUHcyCYXfBw0WYje56W0uyryTkFNHXDdiEfl6QJLN1br3azCR072B8ENIMekRWwWW9PEBxGClJiYULUP6TqvndIx-ElynXLf_IRfBFe8SLxkEaH_yNSvSarPMx96Jof1INWgFlQcX_f8nYGKRrR_a1\" target=\"_blank\">Click to open in new tab</a>"
      ],
      "text/plain": [
       "<IPython.core.display.HTML object>"
      ]
     },
     "metadata": {},
     "output_type": "display_data"
    },
    {
     "name": "stdout",
     "output_type": "stream",
     "text": [
      "Overview :\n"
     ]
    },
    {
     "data": {
      "text/markdown": [
       "![figure](http://127.0.0.1:8080/plantuml/svg/VP5FQy904CNl-oa6Ux0U0adQ1Bje48KUIm-57iEO7UpMk1Fs7qZfTs-8M2rQRyFCU-ytmooSH-l3hXLkgmrOTZHK7LhSmGjxMcAptLWEHgsuPGklsE4Utpzq9yPQINZC7zAdeYYdgU3r9pKUHcyCYXfBw0WYje56W0uyryTkFNHXDdiEfl6QJLN1br3azCR072B8ENIMekRWwWW9PEBxGClJiYULUP6TqvndIx-ElynXLf_IRfBFe8SLxkEaH_yNSvSarPMx96Jof1INWgFlQcX_f8nYGKRrR_a1)"
      ],
      "text/plain": [
       "<IPython.core.display.Markdown object>"
      ]
     },
     "metadata": {},
     "output_type": "display_data"
    },
    {
     "name": "stdout",
     "output_type": "stream",
     "text": [
      "No update for statemachine.xml\n"
     ]
    }
   ],
   "source": [
    "%%jarvis\n",
    "with statemachine\n",
    "\"To decrease value\" consumes previous_v\n",
    "\"To decrease value\" produces v\n",
    "show context \"To decrease value\""
   ]
  },
  {
   "cell_type": "code",
   "execution_count": 13,
   "id": "cc1bfc8e-0709-447a-abd1-4cc79cf0f615",
   "metadata": {},
   "outputs": [
    {
     "name": "stdout",
     "output_type": "stream",
     "text": [
      "statemachine.xml parsed\n",
      "Requirement identified about system: When the system is in state INCREASE_STATE, the system shall execute in the following order: \n",
      "- firstly the function To increase value\n",
      "- then the function To store previous value\n",
      "\n",
      "Functional element system allocates Function To increase value\n",
      "Functional element system allocates Function To store previous value\n",
      "Functional element system allocates State INCREASE_STATE\n",
      "Requirement REQ_INC_SEQ has the same text (confidence factor: 1.0)\n",
      "No update for statemachine.xml\n"
     ]
    }
   ],
   "source": [
    "%%jarvis\n",
    "with statemachine\n",
    "When the system is in state INCREASE_STATE, the system shall execute in the following order: \n",
    "- firstly the function \"To increase value\"\n",
    "- then the function \"To store previous value\""
   ]
  },
  {
   "cell_type": "code",
   "execution_count": 14,
   "id": "f8ceece8",
   "metadata": {},
   "outputs": [
    {
     "name": "stdout",
     "output_type": "stream",
     "text": [
      "statemachine.xml parsed\n",
      "Functional element with the name system already exists\n",
      "State with the name INCREASE_STATE already exists\n",
      "No update for statemachine.xml\n"
     ]
    }
   ],
   "source": [
    "%%jarvis\n",
    "with statemachine\n",
    "\"system\" is a functional element\n",
    "\"system\" allocates \"To increase value\"\n",
    "\"system\" allocates \"To store previous value\"\n",
    "\n",
    "INCREASE_STATE is a state\n",
    "\"system\" allocates INCREASE_STATE\n",
    "INCREASE_STATE allocates \"To increase value\"\n",
    "INCREASE_STATE allocates \"To store previous value\"\n",
    "\n",
    "v implies previous_v"
   ]
  },
  {
   "cell_type": "code",
   "execution_count": 15,
   "id": "5ebefce8-0249-46a5-a280-435fe5407b7f",
   "metadata": {},
   "outputs": [
    {
     "name": "stdout",
     "output_type": "stream",
     "text": [
      "statemachine.xml parsed\n",
      "Requirement identified about system: When the system is in state DECREASE_STATE, the system shall execute in the following order:\n",
      "- firstly the function To decrease value\n",
      "- then the function To store previous value\n",
      "\n",
      "Functional element system allocates Function To decrease value\n",
      "Functional element system allocates Function To store previous value\n",
      "Functional element system allocates State DECREASE_STATE\n",
      "Requirement REQ_DEC_STATE has the same text (confidence factor: 1.0)\n",
      "No update for statemachine.xml\n"
     ]
    }
   ],
   "source": [
    "%%jarvis\n",
    "with statemachine\n",
    "When the system is in state DECREASE_STATE, the system shall execute in the following order:\n",
    "- firstly the function \"To decrease value\"\n",
    "- then the function \"To store previous value\""
   ]
  },
  {
   "cell_type": "code",
   "execution_count": 16,
   "id": "ef38f0c9-64ee-44b7-9936-a66f9e7e36cf",
   "metadata": {},
   "outputs": [
    {
     "name": "stdout",
     "output_type": "stream",
     "text": [
      "statemachine.xml parsed\n",
      "State with the name DECREASE_STATE already exists\n",
      "No update for statemachine.xml\n"
     ]
    }
   ],
   "source": [
    "%%jarvis\n",
    "with statemachine\n",
    "\"system\" allocates \"To decrease value\"\n",
    "\n",
    "DECREASE_STATE is a state\n",
    "\"system\" allocates DECREASE_STATE\n",
    "DECREASE_STATE allocates \"To decrease value\"\n",
    "DECREASE_STATE allocates \"To store previous value\"\n",
    "\n",
    "v implies previous_v"
   ]
  },
  {
   "cell_type": "code",
   "execution_count": 17,
   "id": "722b5bf4-065b-4919-b8de-e9263cf65915",
   "metadata": {},
   "outputs": [
    {
     "name": "stdout",
     "output_type": "stream",
     "text": [
      "statemachine.xml parsed\n",
      "Requirement identified about system: When v is greater or equal to 6, the system shall transition from the state INCREASE_STATE to the state DECREASE_STATE\n",
      "\n",
      "Functional element system allocates State INCREASE_STATE\n",
      "Functional element system allocates State DECREASE_STATE\n",
      "Requirement REQ_INC_DEC has the same text (confidence factor: 1.0)\n",
      "No update for statemachine.xml\n"
     ]
    }
   ],
   "source": [
    "%%jarvis\n",
    "with statemachine\n",
    "When v is greater or equal to 6, the system shall transition from the state INCREASE_STATE to the state DECREASE_STATE"
   ]
  },
  {
   "cell_type": "code",
   "execution_count": 18,
   "id": "a5578beb-1424-4c0f-bd6e-6295e9521833",
   "metadata": {},
   "outputs": [
    {
     "name": "stdout",
     "output_type": "stream",
     "text": [
      "statemachine.xml parsed\n",
      "Requirement identified about system: When v is equal to 0, the system shall transition from the state DECREASE_STATE to the state INCREASE_STATE\n",
      "\n",
      "Functional element system allocates State DECREASE_STATE\n",
      "Functional element system allocates State INCREASE_STATE\n",
      "Requirement REQ_DEC_INC has the same text (confidence factor: 1.0)\n",
      "No update for statemachine.xml\n"
     ]
    }
   ],
   "source": [
    "%%jarvis\n",
    "with statemachine\n",
    "When v is equal to 0, the system shall transition from the state DECREASE_STATE to the state INCREASE_STATE"
   ]
  },
  {
   "cell_type": "code",
   "execution_count": 19,
   "id": "6044214a-48db-4557-9e1a-667406498314",
   "metadata": {},
   "outputs": [
    {
     "name": "stdout",
     "output_type": "stream",
     "text": [
      "statemachine.xml parsed\n",
      "Transition with the name TR_INC_DEC already exists\n",
      "Condition \"v is greater or equal to 6\" already exists for transition TR_INC_DEC\n",
      "INCREASE_STATE already the source of transition TR_INC_DEC\n",
      "DECREASE_STATE already the destination of transition TR_INC_DEC\n",
      "No update for statemachine.xml\n"
     ]
    }
   ],
   "source": [
    "%%jarvis\n",
    "with statemachine\n",
    "TR_INC_DEC is a transition\n",
    "The source of TR_INC_DEC is INCREASE_STATE\n",
    "The destination of TR_INC_DEC is DECREASE_STATE\n",
    "The condition for TR_INC_DEC is: v is greater or equal to 6"
   ]
  },
  {
   "cell_type": "code",
   "execution_count": 20,
   "id": "cd2a7974",
   "metadata": {},
   "outputs": [
    {
     "name": "stdout",
     "output_type": "stream",
     "text": [
      "statemachine.xml parsed\n",
      "Transition with the name TR_DEC_INC already exists\n",
      "Condition \"v is equal to 0\" already exists for transition TR_DEC_INC\n",
      "DECREASE_STATE already the source of transition TR_DEC_INC\n",
      "INCREASE_STATE already the destination of transition TR_DEC_INC\n",
      "No update for statemachine.xml\n"
     ]
    }
   ],
   "source": [
    "%%jarvis\n",
    "with statemachine\n",
    "TR_DEC_INC is a transition\n",
    "The source of TR_DEC_INC is DECREASE_STATE\n",
    "The destination of TR_DEC_INC is INCREASE_STATE\n",
    "The condition for TR_DEC_INC is: v is equal to 0"
   ]
  },
  {
   "cell_type": "code",
   "execution_count": 21,
   "id": "d2dbbea3",
   "metadata": {},
   "outputs": [
    {
     "name": "stdout",
     "output_type": "stream",
     "text": [
      "statemachine.xml parsed\n",
      "\"Entry state\" already exists\n",
      "Transition with the name TR_ENTRY_INC already exists\n",
      "Entry state with the name ENTRY already exists\n",
      "ENTRY already the source of transition TR_ENTRY_INC\n",
      "INCREASE_STATE already the destination of transition TR_ENTRY_INC\n",
      "No update for statemachine.xml\n"
     ]
    }
   ],
   "source": [
    "%%jarvis\n",
    "with statemachine\n",
    "\"Entry state\" extends state\n",
    "ENTRY is an \"Entry state\"\n",
    "TR_ENTRY_INC is a transition\n",
    "The source of TR_ENTRY_INC is ENTRY\n",
    "The destination of TR_ENTRY_INC is INCREASE_STATE\n",
    "system allocates ENTRY"
   ]
  },
  {
   "cell_type": "code",
   "execution_count": 22,
   "id": "b10e252c",
   "metadata": {},
   "outputs": [
    {
     "name": "stdout",
     "output_type": "stream",
     "text": [
      "statemachine.xml parsed\n",
      "State Machine Diagram for system generated\n"
     ]
    },
    {
     "data": {
      "text/html": [
       "<a href=\"http://127.0.0.1:8080/plantuml/svg/hLDDRy8m3BtdLrXSTc9hoqePgYe-LgHTq0H84oUKKGiYsgHBt6qLuhylfO2cRZiDNv8uxpq_Myd04DTKP2apEo51AuF7NSurps2g24TylTjeLSXah5AbuPddlEGlMv5_0nO6HqXyJcMAGBf0jXK90cOvbP2WMMkHar2IXQQ2H0ogk8qbwN9V7snCbAIwoCTM45xoJGklgKtKjuUpqgUWVmg5ToTlDoBfWnlqFDy9dC1bTaI4q3Ab8SnQm0tKMmZ3II7NLLyy1KmnGqbH1FjQeTFn_AxhErvmLeYdYzdoA81LuvP_p4GHErohgEVuWUlsl7ldhF0OZsVnS1wlvelX8Zug9RZMo0skQaWOpglrgZPwVi-rLZeFPuMdwGyRGlvfevvFknqrGNtx9c6iP2Agqh14OerkVYMzWx13VokiLrBWi0QWuZHaJfoDpH5gi8_bGk-o0Sh4_fal\" target=\"_blank\">Click to open in new tab</a>"
      ],
      "text/plain": [
       "<IPython.core.display.HTML object>"
      ]
     },
     "metadata": {},
     "output_type": "display_data"
    },
    {
     "name": "stdout",
     "output_type": "stream",
     "text": [
      "Overview :\n"
     ]
    },
    {
     "data": {
      "text/markdown": [
       "![figure](http://127.0.0.1:8080/plantuml/svg/hLDDRy8m3BtdLrXSTc9hoqePgYe-LgHTq0H84oUKKGiYsgHBt6qLuhylfO2cRZiDNv8uxpq_Myd04DTKP2apEo51AuF7NSurps2g24TylTjeLSXah5AbuPddlEGlMv5_0nO6HqXyJcMAGBf0jXK90cOvbP2WMMkHar2IXQQ2H0ogk8qbwN9V7snCbAIwoCTM45xoJGklgKtKjuUpqgUWVmg5ToTlDoBfWnlqFDy9dC1bTaI4q3Ab8SnQm0tKMmZ3II7NLLyy1KmnGqbH1FjQeTFn_AxhErvmLeYdYzdoA81LuvP_p4GHErohgEVuWUlsl7ldhF0OZsVnS1wlvelX8Zug9RZMo0skQaWOpglrgZPwVi-rLZeFPuMdwGyRGlvfevvFknqrGNtx9c6iP2Agqh14OerkVYMzWx13VokiLrBWi0QWuZHaJfoDpH5gi8_bGk-o0Sh4_fal)"
      ],
      "text/plain": [
       "<IPython.core.display.Markdown object>"
      ]
     },
     "metadata": {},
     "output_type": "display_data"
    }
   ],
   "source": [
    "%%jarvis\n",
    "with statemachine\n",
    "show state system"
   ]
  },
  {
   "cell_type": "code",
   "execution_count": 23,
   "id": "71814fae",
   "metadata": {},
   "outputs": [
    {
     "name": "stdout",
     "output_type": "stream",
     "text": [
      "statemachine.xml parsed\n",
      "Function Diagram for system generated\n"
     ]
    },
    {
     "data": {
      "text/html": [
       "<a href=\"http://127.0.0.1:8080/plantuml/svg/bT9DIyGm40RWUtx5i1vKfD1sJQjbBOk2H_4WU2on6TQutKp9Hq74_swf16ktKhmbCydx925RwuHn_j0mkrSQ35aSHgqmuW0FvF1MrFkT8Q_b7JLau56qubqylwgMdIfPG1fdsLMSfJnXzFA6jOFL4u5rP11QWvqYRw4JZSSL20kEgg5NXLurz62pkVUwTefqMS87asZLJiCD_2o3OfYTTUViyvk-JDVnDUSzFwObrWQ5nTzeg2vmGGbc14dGaZZFytN2UJxMb9xJGlMVsWMalVRN4vr4KJaJNemIsF5DmwxPo0AwHMwID-KcfrdajgXb_z--00==\" target=\"_blank\">Click to open in new tab</a>"
      ],
      "text/plain": [
       "<IPython.core.display.HTML object>"
      ]
     },
     "metadata": {},
     "output_type": "display_data"
    },
    {
     "name": "stdout",
     "output_type": "stream",
     "text": [
      "Overview :\n"
     ]
    },
    {
     "data": {
      "text/markdown": [
       "![figure](http://127.0.0.1:8080/plantuml/svg/bT9DIyGm40RWUtx5i1vKfD1sJQjbBOk2H_4WU2on6TQutKp9Hq74_swf16ktKhmbCydx925RwuHn_j0mkrSQ35aSHgqmuW0FvF1MrFkT8Q_b7JLau56qubqylwgMdIfPG1fdsLMSfJnXzFA6jOFL4u5rP11QWvqYRw4JZSSL20kEgg5NXLurz62pkVUwTefqMS87asZLJiCD_2o3OfYTTUViyvk-JDVnDUSzFwObrWQ5nTzeg2vmGGbc14dGaZZFytN2UJxMb9xJGlMVsWMalVRN4vr4KJaJNemIsF5DmwxPo0AwHMwID-KcfrdajgXb_z--00==)"
      ],
      "text/plain": [
       "<IPython.core.display.Markdown object>"
      ]
     },
     "metadata": {},
     "output_type": "display_data"
    }
   ],
   "source": [
    "%%jarvis\n",
    "with statemachine\n",
    "show function system"
   ]
  },
  {
   "cell_type": "code",
   "execution_count": 24,
   "id": "ad1a78fd",
   "metadata": {},
   "outputs": [
    {
     "name": "stdout",
     "output_type": "stream",
     "text": [
      "statemachine.xml parsed\n",
      "Sequence Diagram To increase value, To store previous value generated\n"
     ]
    },
    {
     "data": {
      "text/html": [
       "<a href=\"http://127.0.0.1:8080/plantuml/svg/VP4n2y9038Nt-nMnUmSTHKfHS1G7mR64DjIZxUN8vGhwwosL8gNLBUIzV7aXUL0KZLrhGcCT20SQAu-27LnOwOXbKmj7LvsuPO4hUdpY_M6zsNZ1kaDGuXUeH3B3cDhIUdGAoOqXA0k15-ejnm0zjf4Im03AnQWLarQC6XmEv-XAjUooR46phXJ2G7FEr5qZu53qgFHhtymm1vbV4TDiPUiUjYbyZMRf-8oj4lUmIw4t5Vr9CnTNRyd9LSCdtm==\" target=\"_blank\">Click to open in new tab</a>"
      ],
      "text/plain": [
       "<IPython.core.display.HTML object>"
      ]
     },
     "metadata": {},
     "output_type": "display_data"
    },
    {
     "name": "stdout",
     "output_type": "stream",
     "text": [
      "Overview :\n"
     ]
    },
    {
     "data": {
      "text/markdown": [
       "![figure](http://127.0.0.1:8080/plantuml/svg/VP4n2y9038Nt-nMnUmSTHKfHS1G7mR64DjIZxUN8vGhwwosL8gNLBUIzV7aXUL0KZLrhGcCT20SQAu-27LnOwOXbKmj7LvsuPO4hUdpY_M6zsNZ1kaDGuXUeH3B3cDhIUdGAoOqXA0k15-ejnm0zjf4Im03AnQWLarQC6XmEv-XAjUooR46phXJ2G7FEr5qZu53qgFHhtymm1vbV4TDiPUiUjYbyZMRf-8oj4lUmIw4t5Vr9CnTNRyd9LSCdtm==)"
      ],
      "text/plain": [
       "<IPython.core.display.Markdown object>"
      ]
     },
     "metadata": {},
     "output_type": "display_data"
    }
   ],
   "source": [
    "%%jarvis\n",
    "with statemachine\n",
    "show sequence \"To increase value\", \"To store previous value\""
   ]
  },
  {
   "cell_type": "code",
   "execution_count": 25,
   "id": "6a7ea03f",
   "metadata": {},
   "outputs": [
    {
     "name": "stdout",
     "output_type": "stream",
     "text": [
      "statemachine.xml parsed\n",
      "Sequence Diagram To decrease value, To store previous value generated\n"
     ]
    },
    {
     "data": {
      "text/html": [
       "<a href=\"http://127.0.0.1:8080/plantuml/svg/VP4n2y9038Nt-nMnUmSTHKfHS1G7mR64DjIZxUN8vGhwwosL8gNLBUIzV7aXUL0KZLrhGcCT20SQAu-27LnOwOXbKmj7LvsuPO4hUdpY_M6zsNZ1kaDGuXUeH3B3cDhIUdGAoOqXA0k15-ejnm0zjf4Im03AnQWLarQC6XmEv-XAjUooR46hg1J2G7FEr5qZu53qgFHhtymm1vbV4TDiPUiUjYbyZMRf-8oj4lUmIw4t5Vr9CnTNRyd9LSCdtm==\" target=\"_blank\">Click to open in new tab</a>"
      ],
      "text/plain": [
       "<IPython.core.display.HTML object>"
      ]
     },
     "metadata": {},
     "output_type": "display_data"
    },
    {
     "name": "stdout",
     "output_type": "stream",
     "text": [
      "Overview :\n"
     ]
    },
    {
     "data": {
      "text/markdown": [
       "![figure](http://127.0.0.1:8080/plantuml/svg/VP4n2y9038Nt-nMnUmSTHKfHS1G7mR64DjIZxUN8vGhwwosL8gNLBUIzV7aXUL0KZLrhGcCT20SQAu-27LnOwOXbKmj7LvsuPO4hUdpY_M6zsNZ1kaDGuXUeH3B3cDhIUdGAoOqXA0k15-ejnm0zjf4Im03AnQWLarQC6XmEv-XAjUooR46hg1J2G7FEr5qZu53qgFHhtymm1vbV4TDiPUiUjYbyZMRf-8oj4lUmIw4t5Vr9CnTNRyd9LSCdtm==)"
      ],
      "text/plain": [
       "<IPython.core.display.Markdown object>"
      ]
     },
     "metadata": {},
     "output_type": "display_data"
    }
   ],
   "source": [
    "%%jarvis\n",
    "with statemachine\n",
    "show sequence \"To decrease value\", \"To store previous value\""
   ]
  },
  {
   "cell_type": "code",
   "execution_count": 26,
   "id": "b24228f9",
   "metadata": {},
   "outputs": [
    {
     "name": "stdout",
     "output_type": "stream",
     "text": [
      "statemachine.xml parsed\n",
      "No update for statemachine.xml\n"
     ]
    }
   ],
   "source": [
    "%%jarvis\n",
    "with statemachine\n",
    "design is an attribute\n",
    "initial value is an attribute\n",
    "The design of v is \"Integer\".\n",
    "The initial value of v is \"0\".\n",
    "The design of previous_v is \"Integer\".\n",
    "The initial value of previous_v is \"0\".\n",
    "The design of \"To store previous value\" is \"previous_v := pre(v)\".\n",
    "The design of \"To increase value\" is \"v := previous_v + 2\".\n",
    "The design of \"To decrease value\" is \"v := previous_v - 1\".\n",
    "The design of TR_INC_DEC is \"v >= 6\".\n",
    "The design of TR_DEC_INC is \"v == 0\"."
   ]
  },
  {
   "cell_type": "code",
   "execution_count": 27,
   "id": "ea976f3b",
   "metadata": {},
   "outputs": [
    {
     "name": "stdout",
     "output_type": "stream",
     "text": [
      "statemachine.xml parsed\n",
      "Simulation for system generated\n",
      "Simulation model loaded...\n",
      "Simulation model instantiated...\n",
      "Simulation done\n"
     ]
    }
   ],
   "source": [
    "%%jarvis\n",
    "with statemachine\n",
    "simulate state system between 0 and 10"
   ]
  },
  {
   "cell_type": "code",
   "execution_count": 28,
   "id": "16d5b3d6",
   "metadata": {},
   "outputs": [
    {
     "name": "stdout",
     "output_type": "stream",
     "text": [
      "statemachine.xml parsed\n",
      "Variables \"v, state, clock\" displayed\n"
     ]
    }
   ],
   "source": [
    "%%jarvis\n",
    "with statemachine\n",
    "plot v, state, clock"
   ]
  },
  {
   "cell_type": "code",
   "execution_count": null,
   "id": "3e4459a6",
   "metadata": {},
   "outputs": [],
   "source": []
  }
 ],
 "metadata": {
  "kernelspec": {
   "display_name": "Python 3 (ipykernel)",
   "language": "python",
   "name": "python3"
  },
  "language_info": {
   "codemirror_mode": {
    "name": "ipython",
    "version": 3
   },
   "file_extension": ".py",
   "mimetype": "text/x-python",
   "name": "python",
   "nbconvert_exporter": "python",
   "pygments_lexer": "ipython3",
   "version": "3.10.11"
  }
 },
 "nbformat": 4,
 "nbformat_minor": 5
}
