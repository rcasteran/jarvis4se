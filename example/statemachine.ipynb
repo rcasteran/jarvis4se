{
 "cells": [
  {
   "cell_type": "code",
   "execution_count": 1,
   "id": "0a9b2ed4-cfe8-4ce1-b920-afe0f7f165e8",
   "metadata": {},
   "outputs": [
    {
     "name": "stdout",
     "output_type": "stream",
     "text": [
      "Log file storage activated\n",
      "ERROR, WARNING and INFO messages display activated\n",
      "Open Modelica simulation activated\n",
      "plantUml.jar is not up-to-date, see latest release https://github.com/plantuml/plantuml/releases/latest\n",
      "Hello casteran\n",
      "I am Jarvis. How may I assist you?\n"
     ]
    }
   ],
   "source": [
    "%reload_ext jarvis"
   ]
  },
  {
   "cell_type": "code",
   "execution_count": 2,
   "id": "c250153c-288d-43c8-899b-e6344b2588d9",
   "metadata": {},
   "outputs": [
    {
     "name": "stdout",
     "output_type": "stream",
     "text": [
      "\n",
      "ipython==8.2.0\n",
      "lxml==4.8.0\n",
      "notebook==6.4.11\n",
      "plantuml==0.3.0\n",
      "jarvis4se==1.4.0\n",
      "pandas==1.4.2\n",
      "requests==2.31.0\n",
      "nltk==3.8.1\n",
      "PyZMQ==22.3.0\n",
      "OMPython==3.5.1 \n",
      "python==3.10.4\n"
     ]
    }
   ],
   "source": [
    "%retrieve_pkg_version"
   ]
  },
  {
   "cell_type": "markdown",
   "id": "a2451f7f-32d4-447c-8bdc-ccf8a15a7b59",
   "metadata": {},
   "source": [
    "State machine from https://build.openmodelica.org/Documentation/ModelicaReference.StateMachines.html"
   ]
  },
  {
   "cell_type": "raw",
   "id": "c9a85eb9-0829-4fbd-9011-6f9f3ca1f834",
   "metadata": {},
   "source": [
    "  inner Integer v(start=0);\n",
    "  block Increase\n",
    "    outer output Integer v;\n",
    "  equation\n",
    "    v = previous(v) + 2;\n",
    "  end Increase;\n",
    "  Increase increase;\n",
    "  block Decrease\n",
    "    outer output Integer v;\n",
    "  equation\n",
    "    v = previous(v) - 1;\n",
    "  end Decrease;\n",
    "  Decrease decrease;\n",
    "equation\n",
    "  initialState(increase);\n",
    "  transition(increase, decrease, v>=6, immediate=false);\n",
    "  transition(decrease, increase, v==0, immediate=false);"
   ]
  },
  {
   "cell_type": "markdown",
   "id": "61e4ac16",
   "metadata": {},
   "source": [
    "But this does not work. Instead this work:"
   ]
  },
  {
   "cell_type": "raw",
   "id": "9489bb02",
   "metadata": {},
   "source": [
    "model system\n",
    "Boolean clock;\n",
    "Integer previous_v(start=0);\n",
    "Integer v(start=0);\n",
    "type State = enumeration(DECREASE_STATE, INCREASE_STATE);\n",
    "State state(start = State.INCREASE_STATE);\n",
    "equation\n",
    "  clock = sample(0,1);\n",
    "algorithm\n",
    "  when clock then\n",
    "    if state == state.DECREASE_STATE then\n",
    "    previous_v := pre(v);\n",
    "    v := previous_v - 1;\n",
    "    end if;\n",
    "    if state == state.INCREASE_STATE then\n",
    "    previous_v := pre(v);\n",
    "    v := previous_v + 2;\n",
    "    end if;\n",
    "    if v >= 6 then\n",
    "    state := state.DECREASE_STATE;\n",
    "    end if;\n",
    "    if v == 0 then\n",
    "    state := state.INCREASE_STATE;\n",
    "    end if;\n",
    "  end when;\n",
    "end system;"
   ]
  },
  {
   "cell_type": "code",
   "execution_count": 3,
   "id": "218abca9",
   "metadata": {},
   "outputs": [
    {
     "name": "stdout",
     "output_type": "stream",
     "text": [
      "statemachine.xml parsed\n",
      "Data with the name v already exists\n",
      "Data with the name previous_v already exists\n",
      "No update for statemachine.xml\n"
     ]
    }
   ],
   "source": [
    "%%jarvis\n",
    "with statemachine\n",
    "v is a data\n",
    "previous_v is a data"
   ]
  },
  {
   "cell_type": "code",
   "execution_count": 4,
   "id": "e3e4c45d",
   "metadata": {},
   "outputs": [
    {
     "name": "stdout",
     "output_type": "stream",
     "text": [
      "statemachine.xml parsed\n",
      "Function with the name To store previous value already exists\n",
      "Requirement identified about To store previous value: The function To store previous value shall set previous_v to v\n",
      "Requirement REQ_STORE has the same description (confidence factor: 1.0)\n",
      "No update for statemachine.xml\n"
     ]
    }
   ],
   "source": [
    "%%jarvis\n",
    "with statemachine\n",
    "\"To store previous value\" is a function\n",
    "The function \"To store previous value\" shall set previous_v to v"
   ]
  },
  {
   "cell_type": "code",
   "execution_count": 5,
   "id": "6d21dfe3",
   "metadata": {},
   "outputs": [
    {
     "name": "stdout",
     "output_type": "stream",
     "text": [
      "statemachine.xml parsed\n",
      "Requirement identified about To store previous value: The function To store previous value shall initialize previous_v to 0\n",
      "Requirement REQ_STORE_INIT has the same description (confidence factor: 1.0)\n",
      "No update for statemachine.xml\n"
     ]
    }
   ],
   "source": [
    "%%jarvis\n",
    "with statemachine\n",
    "The function \"To store previous value\" shall initialize previous_v to 0"
   ]
  },
  {
   "cell_type": "code",
   "execution_count": 6,
   "id": "c566e651",
   "metadata": {},
   "outputs": [
    {
     "name": "stdout",
     "output_type": "stream",
     "text": [
      "statemachine.xml parsed\n",
      "No update for statemachine.xml\n"
     ]
    }
   ],
   "source": [
    "%%jarvis\n",
    "with statemachine\n",
    "\"To store previous value\" consumes v\n",
    "\"To store previous value\" produces previous_v"
   ]
  },
  {
   "cell_type": "code",
   "execution_count": 7,
   "id": "e61cc93e-e920-484a-b501-fb715221c0aa",
   "metadata": {},
   "outputs": [
    {
     "name": "stdout",
     "output_type": "stream",
     "text": [
      "statemachine.xml parsed\n",
      "Function with the name To increase value already exists\n",
      "Requirement identified about To increase value: The function To increase value shall set v to previous_v + 2\n",
      "Requirement REQ_INC has the same description (confidence factor: 1.0)\n",
      "No update for statemachine.xml\n"
     ]
    }
   ],
   "source": [
    "%%jarvis\n",
    "with statemachine\n",
    "\"To increase value\" is a function\n",
    "The function \"To increase value\" shall set v to previous_v + 2"
   ]
  },
  {
   "cell_type": "code",
   "execution_count": 8,
   "id": "e6b49789",
   "metadata": {},
   "outputs": [
    {
     "name": "stdout",
     "output_type": "stream",
     "text": [
      "statemachine.xml parsed\n",
      "Requirement identified about To increase value: The function To increase value shall initialize v to 0\n",
      "Requirement REQ_INC_INIT has the same description (confidence factor: 1.0)\n",
      "No update for statemachine.xml\n"
     ]
    }
   ],
   "source": [
    "%%jarvis\n",
    "with statemachine\n",
    "The function \"To increase value\" shall initialize v to 0"
   ]
  },
  {
   "cell_type": "code",
   "execution_count": 9,
   "id": "01b12ead",
   "metadata": {},
   "outputs": [
    {
     "name": "stdout",
     "output_type": "stream",
     "text": [
      "statemachine.xml parsed\n",
      "Context Diagram To increase value generated\n"
     ]
    },
    {
     "data": {
      "text/html": [
       "<a href=\"http://127.0.0.1:8080/plantuml/svg/VP5BQy9G48NtzrSSxAAM8iIeLO86QS6bT57eCaoJmTuQxuJxWYBzxmqHgqNRtJ2FyvsPMJfFreTThTnM6rXnt4KDMTfXBPuVgTnkh0HJFKaj5i_Kq2Uzlkj6tUegGvfEar4wcOmJ9MyVN7hqNWJQb9R9CIBLWNiW1o_5CLjqMSpdgs1AhyNaEVQgOgSt1Wj4P0iqbgEMu8g8UwJgwq0RFYIpwIWPpiRdDEV5yi_4RsPNAqvg_vBFe0SB_NZNel-IkHaCyYjxjJQpKwUwR3ZENHLjJvf5jMHJjM_v1W==\" target=\"_blank\">Click to open in new tab</a>"
      ],
      "text/plain": [
       "<IPython.core.display.HTML object>"
      ]
     },
     "metadata": {},
     "output_type": "display_data"
    },
    {
     "name": "stdout",
     "output_type": "stream",
     "text": [
      "Overview :\n"
     ]
    },
    {
     "data": {
      "text/markdown": [
       "![figure](http://127.0.0.1:8080/plantuml/svg/VP5BQy9G48NtzrSSxAAM8iIeLO86QS6bT57eCaoJmTuQxuJxWYBzxmqHgqNRtJ2FyvsPMJfFreTThTnM6rXnt4KDMTfXBPuVgTnkh0HJFKaj5i_Kq2Uzlkj6tUegGvfEar4wcOmJ9MyVN7hqNWJQb9R9CIBLWNiW1o_5CLjqMSpdgs1AhyNaEVQgOgSt1Wj4P0iqbgEMu8g8UwJgwq0RFYIpwIWPpiRdDEV5yi_4RsPNAqvg_vBFe0SB_NZNel-IkHaCyYjxjJQpKwUwR3ZENHLjJvf5jMHJjM_v1W==)"
      ],
      "text/plain": [
       "<IPython.core.display.Markdown object>"
      ]
     },
     "metadata": {},
     "output_type": "display_data"
    },
    {
     "name": "stdout",
     "output_type": "stream",
     "text": [
      "No update for statemachine.xml\n"
     ]
    }
   ],
   "source": [
    "%%jarvis\n",
    "with statemachine\n",
    "\"To increase value\" consumes previous_v\n",
    "\"To increase value\" produces v\n",
    "show context \"To increase value\""
   ]
  },
  {
   "cell_type": "code",
   "execution_count": 10,
   "id": "e95929ab-59ca-4897-9e79-a680655d19d3",
   "metadata": {},
   "outputs": [
    {
     "name": "stdout",
     "output_type": "stream",
     "text": [
      "statemachine.xml parsed\n",
      "Function with the name To decrease value already exists\n",
      "Requirement identified about To decrease value: The function To decrease value shall set v to previous_v - 1 \n",
      "Requirement REQ_DEC has the same description (confidence factor: 1.0)\n",
      "No update for statemachine.xml\n"
     ]
    }
   ],
   "source": [
    "%%jarvis\n",
    "with statemachine\n",
    "\"To decrease value\" is a function\n",
    "The function \"To decrease value\" shall set v to previous_v - 1 "
   ]
  },
  {
   "cell_type": "code",
   "execution_count": 11,
   "id": "2ac22f35",
   "metadata": {},
   "outputs": [
    {
     "name": "stdout",
     "output_type": "stream",
     "text": [
      "statemachine.xml parsed\n",
      "Requirement identified about To decrease value: The function To decrease value shall initialize v to 0\n",
      "Requirement REQ_DEC_INIT has the same description (confidence factor: 1.0)\n",
      "No update for statemachine.xml\n"
     ]
    }
   ],
   "source": [
    "%%jarvis\n",
    "with statemachine\n",
    "The function \"To decrease value\" shall initialize v to 0"
   ]
  },
  {
   "cell_type": "code",
   "execution_count": 12,
   "id": "27014fc7-6bad-45fe-b5a2-258a12843edf",
   "metadata": {},
   "outputs": [
    {
     "name": "stdout",
     "output_type": "stream",
     "text": [
      "statemachine.xml parsed\n",
      "Context Diagram To decrease value generated\n"
     ]
    },
    {
     "data": {
      "text/html": [
       "<a href=\"http://127.0.0.1:8080/plantuml/svg/VP5FIyD04CNl-oaUzQ0U0essfbtQK1GyYWV1OnYpGrsRxeJTpOA8tzsGKbkLobo6-VD-RvXLYEHZjsrKs5W7Bu67h2LFMpn8v5kgDsildJDtqeZ78xNqJi-ljbNdrcZCvyLqEkcZKFBondN4w4bWkFPCWP6ewNW42eXIxQlLKCLYST-vEbfnPOaFPJZOjSCI2Ng9rdEoqeKg8KEkFdUq_6OyAwx7-MnoJ0jHF7zl_6GElUgWzY_v2BgpS94kU_HVwsTPLfvKrxZIIPtgxbT_AVQtwSEaMh4p_Lk-00==\" target=\"_blank\">Click to open in new tab</a>"
      ],
      "text/plain": [
       "<IPython.core.display.HTML object>"
      ]
     },
     "metadata": {},
     "output_type": "display_data"
    },
    {
     "name": "stdout",
     "output_type": "stream",
     "text": [
      "Overview :\n"
     ]
    },
    {
     "data": {
      "text/markdown": [
       "![figure](http://127.0.0.1:8080/plantuml/svg/VP5FIyD04CNl-oaUzQ0U0essfbtQK1GyYWV1OnYpGrsRxeJTpOA8tzsGKbkLobo6-VD-RvXLYEHZjsrKs5W7Bu67h2LFMpn8v5kgDsildJDtqeZ78xNqJi-ljbNdrcZCvyLqEkcZKFBondN4w4bWkFPCWP6ewNW42eXIxQlLKCLYST-vEbfnPOaFPJZOjSCI2Ng9rdEoqeKg8KEkFdUq_6OyAwx7-MnoJ0jHF7zl_6GElUgWzY_v2BgpS94kU_HVwsTPLfvKrxZIIPtgxbT_AVQtwSEaMh4p_Lk-00==)"
      ],
      "text/plain": [
       "<IPython.core.display.Markdown object>"
      ]
     },
     "metadata": {},
     "output_type": "display_data"
    },
    {
     "name": "stdout",
     "output_type": "stream",
     "text": [
      "No update for statemachine.xml\n"
     ]
    }
   ],
   "source": [
    "%%jarvis\n",
    "with statemachine\n",
    "\"To decrease value\" consumes previous_v\n",
    "\"To decrease value\" produces v\n",
    "show context \"To decrease value\""
   ]
  },
  {
   "cell_type": "code",
   "execution_count": 3,
   "id": "cc1bfc8e-0709-447a-abd1-4cc79cf0f615",
   "metadata": {},
   "outputs": [
    {
     "name": "stdout",
     "output_type": "stream",
     "text": [
      "statemachine.xml parsed\n",
      "Requirement identified about system: When the system is in state INCREASE_STATE, the system shall execute in the following order: \n",
      "- firstly the function To increase value\n",
      "- then the function To store previous value\n",
      "\n",
      "Requirement REQ_INC_STATE has the same description (confidence factor: 1.0)\n",
      "No update for statemachine.xml\n"
     ]
    }
   ],
   "source": [
    "%%jarvis\n",
    "with statemachine\n",
    "When the system is in state INCREASE_STATE, the system shall execute in the following order: \n",
    "- firstly the function \"To increase value\"\n",
    "- then the function \"To store previous value\""
   ]
  },
  {
   "cell_type": "code",
   "execution_count": 14,
   "id": "f8ceece8",
   "metadata": {},
   "outputs": [
    {
     "name": "stdout",
     "output_type": "stream",
     "text": [
      "statemachine.xml parsed\n",
      "Functional element with the name system already exists\n",
      "State with the name INCREASE_STATE already exists\n",
      "No update for statemachine.xml\n"
     ]
    }
   ],
   "source": [
    "%%jarvis\n",
    "with statemachine\n",
    "\"system\" is a functional element\n",
    "\"system\" allocates \"To increase value\"\n",
    "\"system\" allocates \"To store previous value\"\n",
    "\n",
    "INCREASE_STATE is a state\n",
    "\"system\" allocates INCREASE_STATE\n",
    "INCREASE_STATE allocates \"To increase value\"\n",
    "INCREASE_STATE allocates \"To store previous value\"\n",
    "\n",
    "v implies previous_v"
   ]
  },
  {
   "cell_type": "code",
   "execution_count": 15,
   "id": "5ebefce8-0249-46a5-a280-435fe5407b7f",
   "metadata": {},
   "outputs": [
    {
     "name": "stdout",
     "output_type": "stream",
     "text": [
      "statemachine.xml parsed\n",
      "Requirement identified about system: When the system is in state DECREASE_STATE, the system shall execute in the following order: firstly the function To decrease value, then the function To store previous value\n",
      "Requirement REQ_DEC_STATE has the same description (confidence factor: 1.0)\n",
      "No update for statemachine.xml\n"
     ]
    }
   ],
   "source": [
    "%%jarvis\n",
    "with statemachine\n",
    "When the system is in state DECREASE_STATE, the system shall execute in the following order:\n",
    "- firstly the function \"To decrease value\"\n",
    "- then the function \"To store previous value\""
   ]
  },
  {
   "cell_type": "code",
   "execution_count": 16,
   "id": "ef38f0c9-64ee-44b7-9936-a66f9e7e36cf",
   "metadata": {},
   "outputs": [
    {
     "name": "stdout",
     "output_type": "stream",
     "text": [
      "statemachine.xml parsed\n",
      "State with the name DECREASE_STATE already exists\n",
      "No update for statemachine.xml\n"
     ]
    }
   ],
   "source": [
    "%%jarvis\n",
    "with statemachine\n",
    "\"system\" allocates \"To decrease value\"\n",
    "\n",
    "DECREASE_STATE is a state\n",
    "\"system\" allocates DECREASE_STATE\n",
    "DECREASE_STATE allocates \"To decrease value\"\n",
    "DECREASE_STATE allocates \"To store previous value\"\n",
    "\n",
    "v implies previous_v"
   ]
  },
  {
   "cell_type": "code",
   "execution_count": 17,
   "id": "722b5bf4-065b-4919-b8de-e9263cf65915",
   "metadata": {},
   "outputs": [
    {
     "name": "stdout",
     "output_type": "stream",
     "text": [
      "statemachine.xml parsed\n",
      "Requirement identified about system: When v is greater or equal to 6, the system shall transition from the state INCREASE_STATE to the state DECREASE_STATE\n",
      "Requirement REQ_INC_DEC has the same description (confidence factor: 1.0)\n",
      "No update for statemachine.xml\n"
     ]
    }
   ],
   "source": [
    "%%jarvis\n",
    "with statemachine\n",
    "When v is greater or equal to 6, the system shall transition from the state INCREASE_STATE to the state DECREASE_STATE"
   ]
  },
  {
   "cell_type": "code",
   "execution_count": 18,
   "id": "a5578beb-1424-4c0f-bd6e-6295e9521833",
   "metadata": {},
   "outputs": [
    {
     "name": "stdout",
     "output_type": "stream",
     "text": [
      "statemachine.xml parsed\n",
      "Requirement identified about system: When v is equal to 0, the system shall transition from the state DECREASE_STATE to the state INCREASE_STATE\n",
      "Requirement REQ_DEC_INC has the same description (confidence factor: 1.0)\n",
      "No update for statemachine.xml\n"
     ]
    }
   ],
   "source": [
    "%%jarvis\n",
    "with statemachine\n",
    "When v is equal to 0, the system shall transition from the state DECREASE_STATE to the state INCREASE_STATE"
   ]
  },
  {
   "cell_type": "code",
   "execution_count": 19,
   "id": "6044214a-48db-4557-9e1a-667406498314",
   "metadata": {},
   "outputs": [
    {
     "name": "stdout",
     "output_type": "stream",
     "text": [
      "statemachine.xml parsed\n",
      "Transition with the name TR_INC_DEC already exists\n",
      "Condition \"v is greater or equal to 6\" already exists for transition TR_INC_DEC\n",
      "INCREASE_STATE already the source of transition TR_INC_DEC\n",
      "DECREASE_STATE already the destination of transition TR_INC_DEC\n",
      "No update for statemachine.xml\n"
     ]
    }
   ],
   "source": [
    "%%jarvis\n",
    "with statemachine\n",
    "TR_INC_DEC is a transition\n",
    "The source of TR_INC_DEC is INCREASE_STATE\n",
    "The destination of TR_INC_DEC is DECREASE_STATE\n",
    "The condition for TR_INC_DEC is: v is greater or equal to 6"
   ]
  },
  {
   "cell_type": "code",
   "execution_count": 20,
   "id": "cd2a7974",
   "metadata": {},
   "outputs": [
    {
     "name": "stdout",
     "output_type": "stream",
     "text": [
      "statemachine.xml parsed\n",
      "Transition with the name TR_DEC_INC already exists\n",
      "Condition \"v is equal to 0\" already exists for transition TR_DEC_INC\n",
      "DECREASE_STATE already the source of transition TR_DEC_INC\n",
      "INCREASE_STATE already the destination of transition TR_DEC_INC\n",
      "No update for statemachine.xml\n"
     ]
    }
   ],
   "source": [
    "%%jarvis\n",
    "with statemachine\n",
    "TR_DEC_INC is a transition\n",
    "The source of TR_DEC_INC is DECREASE_STATE\n",
    "The destination of TR_DEC_INC is INCREASE_STATE\n",
    "The condition for TR_DEC_INC is: v is equal to 0"
   ]
  },
  {
   "cell_type": "code",
   "execution_count": 21,
   "id": "d2dbbea3",
   "metadata": {},
   "outputs": [
    {
     "name": "stdout",
     "output_type": "stream",
     "text": [
      "statemachine.xml parsed\n",
      "\"Entry state\" already exists\n",
      "Transition with the name TR_ENTRY_INC already exists\n",
      "Entry state with the name ENTRY already exists\n",
      "ENTRY already the source of transition TR_ENTRY_INC\n",
      "INCREASE_STATE already the destination of transition TR_ENTRY_INC\n",
      "No update for statemachine.xml\n"
     ]
    }
   ],
   "source": [
    "%%jarvis\n",
    "with statemachine\n",
    "\"Entry state\" extends state\n",
    "ENTRY is an \"Entry state\"\n",
    "TR_ENTRY_INC is a transition\n",
    "The source of TR_ENTRY_INC is ENTRY\n",
    "The destination of TR_ENTRY_INC is INCREASE_STATE\n",
    "system allocates ENTRY"
   ]
  },
  {
   "cell_type": "code",
   "execution_count": 22,
   "id": "b10e252c",
   "metadata": {},
   "outputs": [
    {
     "name": "stdout",
     "output_type": "stream",
     "text": [
      "statemachine.xml parsed\n",
      "State Machine Diagram for system generated\n"
     ]
    },
    {
     "data": {
      "text/html": [
       "<a href=\"http://127.0.0.1:8080/plantuml/svg/jPFBRi8m44Nt_eeHcwveWOG0LHJnQ92wYIg2LB52RZ82YyHExKdR2F7lpGDGbNRNrXlRupjdhbzJGrnJdYRC78G4hGpMeunhdaAW2ESyEkoqocMyK8dIyCGpNl3dlSY-27E3SoGUKf4WaCwHxKMCW6b61SHe8Yqo4aeorrGIZq7LRdr9kZWsax8jbQIcoFjU45xZRGilIHbeLayNqeUWNuBSkxEt6n7VWzMtxV7G6Ta3LXuH8NHCOGZJ3d03pH1STvdBgDeNJm0JJ56Ivy6n8TWZn-fP4ykv4Xw3nSgVXVusNC_MVaqICjB83MuRYUk6LUzvxFHdDYP3o-xt-kF9XV3WVxCHut_R60mTQz8RMOFHXU07wzMc1c3r3ChyEb8NRHrBj-krBTx36mW3kp96gA6yJ7pDoyAam64jRPNU8fxJhpazrfZuKHeeM2WPYsfli45YKvHn-MS-0G==\" target=\"_blank\">Click to open in new tab</a>"
      ],
      "text/plain": [
       "<IPython.core.display.HTML object>"
      ]
     },
     "metadata": {},
     "output_type": "display_data"
    },
    {
     "name": "stdout",
     "output_type": "stream",
     "text": [
      "Overview :\n"
     ]
    },
    {
     "data": {
      "text/markdown": [
       "![figure](http://127.0.0.1:8080/plantuml/svg/jPFBRi8m44Nt_eeHcwveWOG0LHJnQ92wYIg2LB52RZ82YyHExKdR2F7lpGDGbNRNrXlRupjdhbzJGrnJdYRC78G4hGpMeunhdaAW2ESyEkoqocMyK8dIyCGpNl3dlSY-27E3SoGUKf4WaCwHxKMCW6b61SHe8Yqo4aeorrGIZq7LRdr9kZWsax8jbQIcoFjU45xZRGilIHbeLayNqeUWNuBSkxEt6n7VWzMtxV7G6Ta3LXuH8NHCOGZJ3d03pH1STvdBgDeNJm0JJ56Ivy6n8TWZn-fP4ykv4Xw3nSgVXVusNC_MVaqICjB83MuRYUk6LUzvxFHdDYP3o-xt-kF9XV3WVxCHut_R60mTQz8RMOFHXU07wzMc1c3r3ChyEb8NRHrBj-krBTx36mW3kp96gA6yJ7pDoyAam64jRPNU8fxJhpazrfZuKHeeM2WPYsfli45YKvHn-MS-0G==)"
      ],
      "text/plain": [
       "<IPython.core.display.Markdown object>"
      ]
     },
     "metadata": {},
     "output_type": "display_data"
    }
   ],
   "source": [
    "%%jarvis\n",
    "with statemachine\n",
    "show state system"
   ]
  },
  {
   "cell_type": "code",
   "execution_count": 23,
   "id": "71814fae",
   "metadata": {},
   "outputs": [
    {
     "name": "stdout",
     "output_type": "stream",
     "text": [
      "statemachine.xml parsed\n",
      "Function Diagram for system generated\n"
     ]
    },
    {
     "data": {
      "text/html": [
       "<a href=\"http://127.0.0.1:8080/plantuml/svg/bTBVIyCm40Vmz_mLntnGaKBRRNOhimm57yK7mSToDiUCwt8bFmeY_k-MIh1sZY9vIUwRooU4RAr3u_oX5dQlD1YsrCyQD7Y01tPqYzL-PzXhUSSr6tZ41j_n-LKrubp979BhU9NDusIr4FpoHfM3sHE3TMm86aEjOc-XnThJ3D22uxBFof2LVGQRpRtNbLEiYm8-X2IhTXfku6SRvFtgehqKdzzqccRnF5qk5_6GLheoX9P-ew4wmGKbc5UG1cszpZgg6zbGa_IN5gh_r298Eksu_ooAYfClbqChJcMXSNHUFa0dUqSlD-uTnPDNtPAMtN_x0W==\" target=\"_blank\">Click to open in new tab</a>"
      ],
      "text/plain": [
       "<IPython.core.display.HTML object>"
      ]
     },
     "metadata": {},
     "output_type": "display_data"
    },
    {
     "name": "stdout",
     "output_type": "stream",
     "text": [
      "Overview :\n"
     ]
    },
    {
     "data": {
      "text/markdown": [
       "![figure](http://127.0.0.1:8080/plantuml/svg/bTBVIyCm40Vmz_mLntnGaKBRRNOhimm57yK7mSToDiUCwt8bFmeY_k-MIh1sZY9vIUwRooU4RAr3u_oX5dQlD1YsrCyQD7Y01tPqYzL-PzXhUSSr6tZ41j_n-LKrubp979BhU9NDusIr4FpoHfM3sHE3TMm86aEjOc-XnThJ3D22uxBFof2LVGQRpRtNbLEiYm8-X2IhTXfku6SRvFtgehqKdzzqccRnF5qk5_6GLheoX9P-ew4wmGKbc5UG1cszpZgg6zbGa_IN5gh_r298Eksu_ooAYfClbqChJcMXSNHUFa0dUqSlD-uTnPDNtPAMtN_x0W==)"
      ],
      "text/plain": [
       "<IPython.core.display.Markdown object>"
      ]
     },
     "metadata": {},
     "output_type": "display_data"
    }
   ],
   "source": [
    "%%jarvis\n",
    "with statemachine\n",
    "show function system"
   ]
  },
  {
   "cell_type": "code",
   "execution_count": 24,
   "id": "ad1a78fd",
   "metadata": {},
   "outputs": [
    {
     "name": "stdout",
     "output_type": "stream",
     "text": [
      "statemachine.xml parsed\n",
      "Sequence Diagram To increase value, To store previous value generated\n"
     ]
    },
    {
     "data": {
      "text/html": [
       "<a href=\"http://127.0.0.1:8080/plantuml/svg/VP4n2y9038Nt-nMnUmSTHKfHS1G7mR64DjIZxUN8vGhwwosL8gNLBUIzV7aXUL0KZLrhGcCT20SQAu-27LnOwOXbKmj7LvsuPO4hUdpY_M6zsNZ1kaDGuXUeH3B3cDhIUdGAoOqXA0k15-ejnm0zjf4Im03AnQWLarQC6XmEv-XAjUooR46phXJ2G7FEr5qZu53qgFHhtymm1vbV4TDiPUiUjYbyZMRf-8oj4lUmIw4t5Vr9CnTNRyd9LSCdtm==\" target=\"_blank\">Click to open in new tab</a>"
      ],
      "text/plain": [
       "<IPython.core.display.HTML object>"
      ]
     },
     "metadata": {},
     "output_type": "display_data"
    },
    {
     "name": "stdout",
     "output_type": "stream",
     "text": [
      "Overview :\n"
     ]
    },
    {
     "data": {
      "text/markdown": [
       "![figure](http://127.0.0.1:8080/plantuml/svg/VP4n2y9038Nt-nMnUmSTHKfHS1G7mR64DjIZxUN8vGhwwosL8gNLBUIzV7aXUL0KZLrhGcCT20SQAu-27LnOwOXbKmj7LvsuPO4hUdpY_M6zsNZ1kaDGuXUeH3B3cDhIUdGAoOqXA0k15-ejnm0zjf4Im03AnQWLarQC6XmEv-XAjUooR46phXJ2G7FEr5qZu53qgFHhtymm1vbV4TDiPUiUjYbyZMRf-8oj4lUmIw4t5Vr9CnTNRyd9LSCdtm==)"
      ],
      "text/plain": [
       "<IPython.core.display.Markdown object>"
      ]
     },
     "metadata": {},
     "output_type": "display_data"
    }
   ],
   "source": [
    "%%jarvis\n",
    "with statemachine\n",
    "show sequence \"To increase value\", \"To store previous value\""
   ]
  },
  {
   "cell_type": "code",
   "execution_count": 25,
   "id": "6a7ea03f",
   "metadata": {},
   "outputs": [
    {
     "name": "stdout",
     "output_type": "stream",
     "text": [
      "statemachine.xml parsed\n",
      "Sequence Diagram To decrease value, To store previous value generated\n"
     ]
    },
    {
     "data": {
      "text/html": [
       "<a href=\"http://127.0.0.1:8080/plantuml/svg/VP4n2y9038Nt-nMnUmSTHKfHS1G7mR64DjIZxUN8vGhwwosL8gNLBUIzV7aXUL0KZLrhGcCT20SQAu-27LnOwOXbKmj7LvsuPO4hUdpY_M6zsNZ1kaDGuXUeH3B3cDhIUdGAoOqXA0k15-ejnm0zjf4Im03AnQWLarQC6XmEv-XAjUooR46hg1J2G7FEr5qZu53qgFHhtymm1vbV4TDiPUiUjYbyZMRf-8oj4lUmIw4t5Vr9CnTNRyd9LSCdtm==\" target=\"_blank\">Click to open in new tab</a>"
      ],
      "text/plain": [
       "<IPython.core.display.HTML object>"
      ]
     },
     "metadata": {},
     "output_type": "display_data"
    },
    {
     "name": "stdout",
     "output_type": "stream",
     "text": [
      "Overview :\n"
     ]
    },
    {
     "data": {
      "text/markdown": [
       "![figure](http://127.0.0.1:8080/plantuml/svg/VP4n2y9038Nt-nMnUmSTHKfHS1G7mR64DjIZxUN8vGhwwosL8gNLBUIzV7aXUL0KZLrhGcCT20SQAu-27LnOwOXbKmj7LvsuPO4hUdpY_M6zsNZ1kaDGuXUeH3B3cDhIUdGAoOqXA0k15-ejnm0zjf4Im03AnQWLarQC6XmEv-XAjUooR46hg1J2G7FEr5qZu53qgFHhtymm1vbV4TDiPUiUjYbyZMRf-8oj4lUmIw4t5Vr9CnTNRyd9LSCdtm==)"
      ],
      "text/plain": [
       "<IPython.core.display.Markdown object>"
      ]
     },
     "metadata": {},
     "output_type": "display_data"
    }
   ],
   "source": [
    "%%jarvis\n",
    "with statemachine\n",
    "show sequence \"To decrease value\", \"To store previous value\""
   ]
  },
  {
   "cell_type": "code",
   "execution_count": 26,
   "id": "b24228f9",
   "metadata": {},
   "outputs": [
    {
     "name": "stdout",
     "output_type": "stream",
     "text": [
      "statemachine.xml parsed\n",
      "No update for statemachine.xml\n"
     ]
    }
   ],
   "source": [
    "%%jarvis\n",
    "with statemachine\n",
    "design is an attribute\n",
    "initial value is an attribute\n",
    "The design of v is \"Integer\".\n",
    "The initial value of v is \"0\".\n",
    "The design of previous_v is \"Integer\".\n",
    "The initial value of previous_v is \"0\".\n",
    "The design of \"To store previous value\" is \"previous_v := pre(v)\".\n",
    "The design of \"To increase value\" is \"v := previous_v + 2\".\n",
    "The design of \"To decrease value\" is \"v := previous_v - 1\".\n",
    "The design of TR_INC_DEC is \"v >= 6\".\n",
    "The design of TR_DEC_INC is \"v == 0\"."
   ]
  },
  {
   "cell_type": "code",
   "execution_count": 27,
   "id": "ea976f3b",
   "metadata": {},
   "outputs": [
    {
     "name": "stdout",
     "output_type": "stream",
     "text": [
      "statemachine.xml parsed\n",
      "Simulation for system generated\n",
      "Simulation model loaded...\n",
      "Simulation model instantiated...\n",
      "Simulation done\n"
     ]
    }
   ],
   "source": [
    "%%jarvis\n",
    "with statemachine\n",
    "simulate state system between 0 and 10"
   ]
  },
  {
   "cell_type": "code",
   "execution_count": 28,
   "id": "16d5b3d6",
   "metadata": {},
   "outputs": [
    {
     "name": "stdout",
     "output_type": "stream",
     "text": [
      "statemachine.xml parsed\n",
      "Variables \"v, state, clock\" displayed\n"
     ]
    }
   ],
   "source": [
    "%%jarvis\n",
    "with statemachine\n",
    "plot v, state, clock"
   ]
  },
  {
   "cell_type": "code",
   "execution_count": null,
   "id": "3e4459a6",
   "metadata": {},
   "outputs": [],
   "source": []
  }
 ],
 "metadata": {
  "kernelspec": {
   "display_name": "Python 3 (ipykernel)",
   "language": "python",
   "name": "python3"
  },
  "language_info": {
   "codemirror_mode": {
    "name": "ipython",
    "version": 3
   },
   "file_extension": ".py",
   "mimetype": "text/x-python",
   "name": "python",
   "nbconvert_exporter": "python",
   "pygments_lexer": "ipython3",
   "version": "3.10.4"
  }
 },
 "nbformat": 4,
 "nbformat_minor": 5
}
